{
 "cells": [
  {
   "cell_type": "markdown",
   "id": "8025a01e-616b-4166-843b-2a227db8b83b",
   "metadata": {},
   "source": [
    "### imports and globals"
   ]
  },
  {
   "cell_type": "code",
   "execution_count": 18,
   "id": "003d989d-05a1-4d4a-afe8-5b5405701764",
   "metadata": {},
   "outputs": [],
   "source": [
    "import os\n",
    "from google import genai\n",
    "from google.genai import types\n",
    "from dotenv import load_dotenv\n",
    "import pandas as pd"
   ]
  },
  {
   "cell_type": "code",
   "execution_count": 155,
   "id": "80a39b95-6e81-4568-9481-acf14b115f54",
   "metadata": {},
   "outputs": [],
   "source": [
    "from google.genai.types import Tool, GenerateContentConfig, GoogleSearch\n",
    "from langchain_google_genai import ChatGoogleGenerativeAI, GoogleGenerativeAI\n",
    "\n",
    "from enum import Enum, auto\n",
    "from strenum import LowercaseStrEnum\n",
    "\n",
    "from langchain.prompts import PromptTemplate\n",
    "from langchain.output_parsers import PandasDataFrameOutputParser\n",
    "from langchain_core.output_parsers import JsonOutputParser\n",
    "\n",
    "\n",
    "#from langchain_google_genai.chat_models import ChatGoogleGenerativeAI\n"
   ]
  },
  {
   "cell_type": "code",
   "execution_count": 156,
   "id": "142d20d5-2256-4e27-a98b-79fd185cec55",
   "metadata": {},
   "outputs": [
    {
     "data": {
      "text/plain": [
       "True"
      ]
     },
     "execution_count": 156,
     "metadata": {},
     "output_type": "execute_result"
    }
   ],
   "source": [
    "load_dotenv()"
   ]
  },
  {
   "cell_type": "code",
   "execution_count": 3,
   "id": "986fc4a3-9ecf-40cf-979c-8dcb7cbafab5",
   "metadata": {},
   "outputs": [],
   "source": [
    "GOOGLE_API_KEY = os.environ[\"GOOGLE_API_KEY\"]\n",
    "OPEN_AI_KEY = os.environ[\"OPEN_AI_KEY\"]"
   ]
  },
  {
   "cell_type": "markdown",
   "id": "f9da3989-09a6-4d36-9f0e-988df85152fa",
   "metadata": {},
   "source": [
    "### prepare promt template\n"
   ]
  },
  {
   "cell_type": "code",
   "execution_count": 92,
   "id": "7357264e-b8fc-4126-9d87-df058b82d5fb",
   "metadata": {
    "collapsed": true,
    "jupyter": {
     "outputs_hidden": true,
     "source_hidden": true
    }
   },
   "outputs": [
    {
     "name": "stdout",
     "output_type": "stream",
     "text": [
      "The output should be formatted as a string as the operation, followed by a colon, followed by the column or row to be queried on, followed by optional array parameters.\n",
      "1. The column names are limited to the possible columns below.\n",
      "2. Arrays must either be a comma-separated list of numbers formatted as [1,3,5], or it must be in range of numbers formatted as [0..4].\n",
      "3. Remember that arrays are optional and not necessarily required.\n",
      "4. If the column is not in the possible columns or the operation is not a valid Pandas DataFrame operation, return why it is invalid as a sentence starting with either \"Invalid column\" or \"Invalid operation\".\n",
      "\n",
      "As an example, for the formats:\n",
      "1. String \"column:num_legs\" is a well-formatted instance which gets the column num_legs, where num_legs is a possible column.\n",
      "2. String \"row:1\" is a well-formatted instance which gets row 1.\n",
      "3. String \"column:num_legs[1,2]\" is a well-formatted instance which gets the column num_legs for rows 1 and 2, where num_legs is a possible column.\n",
      "4. String \"row:1[num_legs]\" is a well-formatted instance which gets row 1, but for just column num_legs, where num_legs is a possible column.\n",
      "5. String \"mean:num_legs[1..3]\" is a well-formatted instance which takes the mean of num_legs from rows 1 to 3, where num_legs is a possible column and mean is a valid Pandas DataFrame operation.\n",
      "6. String \"do_something:num_legs\" is a badly-formatted instance, where do_something is not a valid Pandas DataFrame operation.\n",
      "7. String \"mean:invalid_col\" is a badly-formatted instance, where invalid_col is not a possible column.\n",
      "\n",
      "Here are the possible columns:\n",
      "```\n",
      "Meal ID, Date, Time, Meal component, Quantity per serving, Carbohydrates, Protein, Fat, Calories\n",
      "```\n",
      "\n"
     ]
    }
   ],
   "source": [
    "# Define your desired Pandas DataFrame.\n",
    "df = pd.DataFrame(\n",
    "    columns = ['Meal ID',\n",
    "               'Date',\n",
    "               'Time',\n",
    "               'Meal component',\n",
    "               'Quantity per serving',\n",
    "               'Carbohydrates',\n",
    "               'Protein',\n",
    "               'Fat',\n",
    "               'Calories'],\n",
    "    data = [['1',\n",
    "            '2025-02-25',\n",
    "            '12:00',\n",
    "            'Brown Bread (2 slices)',\n",
    "            '2 slices',\n",
    "            '20',\n",
    "            '5',\n",
    "            '5',\n",
    "            '200']]\n",
    ")\n",
    "\n",
    "parser = PandasDataFrameOutputParser(dataframe=df)\n",
    "print(parser.get_format_instructions())"
   ]
  },
  {
   "cell_type": "code",
   "execution_count": 157,
   "id": "b8f6ed6c-0d01-4fc1-81c3-517459ee3ce4",
   "metadata": {},
   "outputs": [],
   "source": [
    "nutri_prompt_template = (\"You are a search assistant. The human user will give you a description of their meals, portion size and the time they consumed it. Your task is to analyse the meals, log the date and time of each meal,\"\n",
    "    \"and then decompose the meal and its ingredients into their nutrient content. Use google search tool to get nutrient data from https://www.fatsecret.com/calories-nutrition/ if possible. MAke sensible guesses about portions where user does not provide\"\n",
    "    \"Output the amount of carbohydrates, fats, proteins in grams, and calories. \"\n",
    "    \"Please give a unique id to each meal, that is repeated across its components.\"\n",
    "    \"Answer with the nutritional breakdown of the meal in a json format (and nothing else) as \"\n",
    "    \"[\\{{\\'Column1': 'Value1', 'Column2': 'Value2', 'Column3': 'Value3'\\}},\"\n",
    "    \"\\{{\\'Column1': 'Value4', 'Column2': 'Value5', 'Column3': 'Value6'\\}}]\"\n",
    "    \"The following are the key/column names, and you must extract the value from the meal analysis\"\n",
    "     \"- meal_id\"\n",
    "    \"- date\"\n",
    "    \"- time\"\n",
    "    \"- meal_component\"\n",
    "    \"- quantity_per_serving\"\n",
    "    \"- carbohydrates\"\n",
    "    \"- protein\"\n",
    "    \"- fat\"\n",
    "    \"- calories\"\n",
    "    \"Only answer with the json key-value list, and nothing else.\")"
   ]
  },
  {
   "cell_type": "code",
   "execution_count": 161,
   "id": "59b77770-504e-4d9c-bdae-c805061cd66c",
   "metadata": {},
   "outputs": [
    {
     "data": {
      "text/plain": [
       "'Return a JSON object.'"
      ]
     },
     "execution_count": 161,
     "metadata": {},
     "output_type": "execute_result"
    }
   ],
   "source": [
    "parser = JsonOutputParser()\n",
    "parser.get_format_instructions()"
   ]
  },
  {
   "cell_type": "code",
   "execution_count": 162,
   "id": "2765dbea-6d0e-4703-af26-9c8390d6275d",
   "metadata": {},
   "outputs": [],
   "source": [
    "# Set up the prompt.\n",
    "prompt_template = PromptTemplate(\n",
    "    template = nutri_prompt_template + \"{format_instructions}\" + \"\\n{meal_description}\\n\",\n",
    "    input_variables=[\"meal_description\"],\n",
    "    partial_variables={\"format_instructions\": parser.get_format_instructions()},\n",
    ")"
   ]
  },
  {
   "cell_type": "code",
   "execution_count": 208,
   "id": "a5b7f6e5-9e18-4300-835b-4243af1290ba",
   "metadata": {},
   "outputs": [
    {
     "data": {
      "text/plain": [
       "StringPromptValue(text=\"You are a search assistant. The human user will give you a description of their meals, portion size and the time they consumed it. Your task is to analyse the meals, log the date and time of each meal,and then decompose the meal and its ingredients into their nutrient content. Use google search tool to get nutrient data from https://www.fatsecret.com/calories-nutrition/ if possible. MAke sensible guesses about portions where user does not provideOutput the amount of carbohydrates, fats, proteins in grams, and calories. Please give a unique id to each meal, that is repeated across its components.Answer with the nutritional breakdown of the meal in a json format (and nothing else) as [\\\\{'Column1': 'Value1', 'Column2': 'Value2', 'Column3': 'Value3'\\\\},\\\\{'Column1': 'Value4', 'Column2': 'Value5', 'Column3': 'Value6'\\\\}]The following are the key/column names, and you must extract the value from the meal analysis- meal_id- date- time- meal_component- quantity_per_serving- carbohydrates- protein- fat- caloriesOnly answer with the json key-value list, and nothing else.Return a JSON object.\\ntoday is 24th feb, I ate a cheeseburger with some slaw for lunch, and then a plain dosa for dinner, and yesterday I ate chowmein at 5pm\\n\")"
      ]
     },
     "execution_count": 208,
     "metadata": {},
     "output_type": "execute_result"
    }
   ],
   "source": [
    "meal_description = (\"today is 24th feb, I ate a cheeseburger with some slaw for lunch, and then a plain dosa for dinner, and yesterday I ate chowmein at 5pm\")\n",
    "\n",
    "# Generate the prompt\n",
    "filled_prompt = prompt_template.invoke({\"meal_description\": meal_description})\n",
    "filled_prompt"
   ]
  },
  {
   "cell_type": "markdown",
   "id": "24dc6af5-da94-4246-a1bd-65b511d48802",
   "metadata": {},
   "source": [
    "### access GenAI chat API"
   ]
  },
  {
   "cell_type": "code",
   "execution_count": 209,
   "id": "be1ef6ce-c16a-4d89-aff4-b78c00327426",
   "metadata": {},
   "outputs": [],
   "source": [
    "class MODEL_ID(LowercaseStrEnum):\n",
    "    GEMINI_1_5_FLASH_8B = \"gemini-1.5-flash-8b\"\n",
    "    GEMINI_2_0_FLASH = \"gemini-2.0-flash\"\n",
    "    GEMINI_1_5_FLASH = \"gemini-1.5-flash\"\n"
   ]
  },
  {
   "cell_type": "code",
   "execution_count": 210,
   "id": "2fe1c44d-516c-4941-92a7-45d61fcb4d1f",
   "metadata": {
    "scrolled": true
   },
   "outputs": [
    {
     "name": "stdout",
     "output_type": "stream",
     "text": [
      "```json\n",
      "[\n",
      "  {\n",
      "    \"meal_id\": \"20240223_1\",\n",
      "    \"date\": \"2024-02-23\",\n",
      "    \"time\": \"17:00\",\n",
      "    \"meal_component\": \"Chowmein (estimated 1 serving)\",\n",
      "    \"quantity_per_serving\": \"1 serving\",\n",
      "    \"carbohydrates\": \"40\",\n",
      "    \"protein\": \"10\",\n",
      "    \"fat\": \"15\",\n",
      "    \"calories\": \"350\"\n",
      "  },\n",
      "  {\n",
      "    \"meal_id\": \"20240224_1\",\n",
      "    \"date\": \"2024-02-24\",\n",
      "    \"time\": \"12:00\",\n",
      "    \"meal_component\": \"Cheeseburger\",\n",
      "    \"quantity_per_serving\": \"1\",\n",
      "    \"carbohydrates\": \"35\",\n",
      "    \"protein\": \"25\",\n",
      "    \"fat\": \"30\",\n",
      "    \"calories\": \"450\"\n",
      "  },\n",
      "  {\n",
      "    \"meal_id\": \"20240224_1\",\n",
      "    \"date\": \"2024-02-24\",\n",
      "    \"time\": \"12:00\",\n",
      "    \"meal_component\": \"Slaw (estimated 1/2 cup)\",\n",
      "    \"quantity_per_serving\": \"0.5 cup\",\n",
      "    \"carbohydrates\": \"5\",\n",
      "    \"protein\": \"1\",\n",
      "    \"fat\": \"1\",\n",
      "    \"calories\": \"25\"\n",
      "  },\n",
      "  {\n",
      "    \"meal_id\": \"20240224_2\",\n",
      "    \"date\": \"2024-02-24\",\n",
      "    \"time\": \"20:00\",\n",
      "    \"meal_component\": \"Plain Dosa (estimated 1)\",\n",
      "    \"quantity_per_serving\": \"1\",\n",
      "    \"carbohydrates\": \"30\",\n",
      "    \"protein\": \"5\",\n",
      "    \"fat\": \"5\",\n",
      "    \"calories\": \"200\"\n",
      "  }\n",
      "]\n",
      "```\n"
     ]
    }
   ],
   "source": [
    "\n",
    "# Define custom GenerateContentConfig parameters\n",
    "client_options = {\n",
    "    \"temperature\": 0.0,  # Controls randomness\n",
    "    \"max_output_tokens\": 1000,  # Limit on output tokens\n",
    "    \"stop_sequences\": [\"\\n\"],   # Optional stop sequences\n",
    "}\n",
    "\n",
    "\n",
    "# Initialize ChatGoogleGenerativeAI with client options\n",
    "llm = ChatGoogleGenerativeAI(\n",
    "    model = MODEL_ID.GEMINI_1_5_FLASH,\n",
    "    google_api_key = GOOGLE_API_KEY,\n",
    "    max_output_tokens = 1000,\n",
    "    temperature=0,\n",
    "    top_p=0.95,\n",
    "    top_k=20,\n",
    "    config=GenerateContentConfig(\n",
    "        tools=[google_search_tool],\n",
    "        response_modalities=[\"TEXT\"],\n",
    "    ))\n",
    "   #client_options =  {'generate_content_config': {'max_output_tokens': 100}})\n",
    "\n",
    "# Invoke the model with a prompt\n",
    "response = llm.invoke(filled_prompt.text )\n",
    "print(response.content)\n"
   ]
  },
  {
   "cell_type": "code",
   "execution_count": 211,
   "id": "e9df4b26-8ec7-4980-ae1a-9bb97f8bcecf",
   "metadata": {},
   "outputs": [
    {
     "data": {
      "text/plain": [
       "AIMessage(content='```json\\n[\\n  {\\n    \"meal_id\": \"20240223_1\",\\n    \"date\": \"2024-02-23\",\\n    \"time\": \"17:00\",\\n    \"meal_component\": \"Chowmein (estimated 1 serving)\",\\n    \"quantity_per_serving\": \"1 serving\",\\n    \"carbohydrates\": \"40\",\\n    \"protein\": \"10\",\\n    \"fat\": \"15\",\\n    \"calories\": \"350\"\\n  },\\n  {\\n    \"meal_id\": \"20240224_1\",\\n    \"date\": \"2024-02-24\",\\n    \"time\": \"12:00\",\\n    \"meal_component\": \"Cheeseburger\",\\n    \"quantity_per_serving\": \"1\",\\n    \"carbohydrates\": \"35\",\\n    \"protein\": \"25\",\\n    \"fat\": \"30\",\\n    \"calories\": \"450\"\\n  },\\n  {\\n    \"meal_id\": \"20240224_1\",\\n    \"date\": \"2024-02-24\",\\n    \"time\": \"12:00\",\\n    \"meal_component\": \"Slaw (estimated 1/2 cup)\",\\n    \"quantity_per_serving\": \"0.5 cup\",\\n    \"carbohydrates\": \"5\",\\n    \"protein\": \"1\",\\n    \"fat\": \"1\",\\n    \"calories\": \"25\"\\n  },\\n  {\\n    \"meal_id\": \"20240224_2\",\\n    \"date\": \"2024-02-24\",\\n    \"time\": \"20:00\",\\n    \"meal_component\": \"Plain Dosa (estimated 1)\",\\n    \"quantity_per_serving\": \"1\",\\n    \"carbohydrates\": \"30\",\\n    \"protein\": \"5\",\\n    \"fat\": \"5\",\\n    \"calories\": \"200\"\\n  }\\n]\\n```', additional_kwargs={}, response_metadata={'prompt_feedback': {'block_reason': 0, 'safety_ratings': []}, 'finish_reason': 'STOP', 'safety_ratings': []}, id='run-a799aecb-2b9d-494f-a535-80f3b6bd192d-0', usage_metadata={'input_tokens': 299, 'output_tokens': 484, 'total_tokens': 783, 'input_token_details': {'cache_read': 0}})"
      ]
     },
     "execution_count": 211,
     "metadata": {},
     "output_type": "execute_result"
    }
   ],
   "source": [
    "response"
   ]
  },
  {
   "cell_type": "code",
   "execution_count": 212,
   "id": "3ea16284-e792-48cf-90de-73eabd9b56f2",
   "metadata": {
    "scrolled": true
   },
   "outputs": [],
   "source": [
    "parsed_json = parser.parse(response.content)\n"
   ]
  },
  {
   "cell_type": "code",
   "execution_count": 229,
   "id": "229fec9d-aaee-44a2-9093-fdcd9a30ac3e",
   "metadata": {},
   "outputs": [
    {
     "data": {
      "text/html": [
       "<div>\n",
       "<style scoped>\n",
       "    .dataframe tbody tr th:only-of-type {\n",
       "        vertical-align: middle;\n",
       "    }\n",
       "\n",
       "    .dataframe tbody tr th {\n",
       "        vertical-align: top;\n",
       "    }\n",
       "\n",
       "    .dataframe thead th {\n",
       "        text-align: right;\n",
       "    }\n",
       "</style>\n",
       "<table border=\"1\" class=\"dataframe\">\n",
       "  <thead>\n",
       "    <tr style=\"text-align: right;\">\n",
       "      <th></th>\n",
       "      <th>meal_id</th>\n",
       "      <th>date</th>\n",
       "      <th>time</th>\n",
       "      <th>meal_component</th>\n",
       "      <th>quantity_per_serving</th>\n",
       "      <th>carbohydrates</th>\n",
       "      <th>protein</th>\n",
       "      <th>fat</th>\n",
       "      <th>calories</th>\n",
       "    </tr>\n",
       "  </thead>\n",
       "  <tbody>\n",
       "    <tr>\n",
       "      <th>0</th>\n",
       "      <td>20240223_1</td>\n",
       "      <td>2024-02-23</td>\n",
       "      <td>17:00</td>\n",
       "      <td>Chowmein (estimated 1 serving)</td>\n",
       "      <td>1 serving</td>\n",
       "      <td>40</td>\n",
       "      <td>10</td>\n",
       "      <td>15</td>\n",
       "      <td>350</td>\n",
       "    </tr>\n",
       "    <tr>\n",
       "      <th>1</th>\n",
       "      <td>20240224_1</td>\n",
       "      <td>2024-02-24</td>\n",
       "      <td>12:00</td>\n",
       "      <td>Cheeseburger</td>\n",
       "      <td>1</td>\n",
       "      <td>35</td>\n",
       "      <td>25</td>\n",
       "      <td>30</td>\n",
       "      <td>450</td>\n",
       "    </tr>\n",
       "    <tr>\n",
       "      <th>2</th>\n",
       "      <td>20240224_1</td>\n",
       "      <td>2024-02-24</td>\n",
       "      <td>12:00</td>\n",
       "      <td>Slaw (estimated 1/2 cup)</td>\n",
       "      <td>0.5 cup</td>\n",
       "      <td>5</td>\n",
       "      <td>1</td>\n",
       "      <td>1</td>\n",
       "      <td>25</td>\n",
       "    </tr>\n",
       "    <tr>\n",
       "      <th>3</th>\n",
       "      <td>20240224_2</td>\n",
       "      <td>2024-02-24</td>\n",
       "      <td>20:00</td>\n",
       "      <td>Plain Dosa (estimated 1)</td>\n",
       "      <td>1</td>\n",
       "      <td>30</td>\n",
       "      <td>5</td>\n",
       "      <td>5</td>\n",
       "      <td>200</td>\n",
       "    </tr>\n",
       "  </tbody>\n",
       "</table>\n",
       "</div>"
      ],
      "text/plain": [
       "      meal_id        date   time                  meal_component  \\\n",
       "0  20240223_1  2024-02-23  17:00  Chowmein (estimated 1 serving)   \n",
       "1  20240224_1  2024-02-24  12:00                    Cheeseburger   \n",
       "2  20240224_1  2024-02-24  12:00        Slaw (estimated 1/2 cup)   \n",
       "3  20240224_2  2024-02-24  20:00        Plain Dosa (estimated 1)   \n",
       "\n",
       "  quantity_per_serving carbohydrates protein fat calories  \n",
       "0            1 serving            40      10  15      350  \n",
       "1                    1            35      25  30      450  \n",
       "2              0.5 cup             5       1   1       25  \n",
       "3                    1            30       5   5      200  "
      ]
     },
     "execution_count": 229,
     "metadata": {},
     "output_type": "execute_result"
    }
   ],
   "source": [
    "df = pd.DataFrame.from_records(parsed_json)\n",
    "df.groupby('date').cumcount() + 1\n",
    "df"
   ]
  },
  {
   "cell_type": "markdown",
   "id": "482c1539-1f75-4dff-8c6e-f32d4ba35d69",
   "metadata": {},
   "source": [
    "### try google gemini directly"
   ]
  },
  {
   "cell_type": "code",
   "execution_count": 80,
   "id": "2bbb9d89-2aa4-4b98-82a5-c5ce80e9c960",
   "metadata": {},
   "outputs": [],
   "source": [
    "client = genai.Client(api_key=GOOGLE_API_KEY)\n",
    "\n",
    "google_search_tool = Tool(\n",
    "    google_search = GoogleSearch()\n",
    ")\n",
    "\n",
    "response_direct = client.models.generate_content(\n",
    "    model=MODEL_ID.GEMINI_2_0_FLASH,\n",
    "    contents=filled_prompt, \n",
    "    config=types.GenerateContentConfig(\n",
    "        tools=[google_search_tool],\n",
    "         response_modalities=[\"TEXT\"],\n",
    "    )\n",
    ")\n"
   ]
  },
  {
   "cell_type": "code",
   "execution_count": 89,
   "id": "5eaa8750-a595-4a55-bed8-c8963ecc36f5",
   "metadata": {},
   "outputs": [
    {
     "name": "stdout",
     "output_type": "stream",
     "text": [
      "| Meal ID | Date       | Time  | Meal component | Quantity per serving | Carbohydrates (g) | Protein (g) | Fat (g) | Calories |\n",
      "| ------- | ---------- | ----- | --------------- | -------------------- | ----------------- | ----------- | ------- | -------- |\n",
      "| 1       | 2025-02-25 | 12:00 | Brown Bread    | 2 slices             | 28                | 8           | 2       | 160      |\n",
      "| 1       | 2025-02-25 | 12:00 | Tomato         | 50g                | 2                 | 0.5         | 0.1     | 10       |\n",
      "| 1       | 2025-02-25 | 12:00 | Cheese         | 1 slice              | 1                 | 6           | 8       | 100      |\n",
      "| 1       | 2025-02-25 | 12:00 | Cucumber       | 50g                | 2                 | 0.4         | 0.1     | 8        |\n",
      "| 2       | 2025-02-25 | 21:00 | Roti           | 2                    | 60                | 8           | 2       | 320      |\n",
      "| 2       | 2025-02-25 | 21:00 | Chicken Curry  | 100g               | 8                 | 25          | 15      | 280      |\n",
      "| 2       | 2025-02-25 | 21:00 | Raita          | 1 bowl (100g)        | 5                 | 3           | 4       | 70       |\n",
      "\n"
     ]
    }
   ],
   "source": [
    "print(response_direct_text)"
   ]
  },
  {
   "cell_type": "markdown",
   "id": "f381d573-bb2f-4ae2-8c1c-efbb804352e3",
   "metadata": {},
   "source": [
    "## agent"
   ]
  },
  {
   "cell_type": "code",
   "execution_count": null,
   "id": "9dacf552-0c4a-4744-aafa-36096ddf012b",
   "metadata": {},
   "outputs": [],
   "source": [
    "from langchain.agents import initialize_agent, AgentType\n",
    "\n",
    "# Combine LLM and tools into an agent\n",
    "tools = [search_tool]\n",
    "agent = initialize_agent(\n",
    "    tools=tools,\n",
    "    llm=llm,\n",
    "    agent=AgentType.ZERO_SHOT_REACT_DESCRIPTION,\n",
    "    verbose=True,\n",
    ")\n",
    "\n",
    "# Example query that requires search\n",
    "query = \"What are the latest advancements in AI research? Please answer in not more than 5 lines\"\n",
    "\n",
    "response = agent.run(query)\n",
    "\n",
    "print(response)\n"
   ]
  },
  {
   "cell_type": "markdown",
   "id": "a26c8c8a-83d9-4c29-9cb7-cccbd6a898ca",
   "metadata": {},
   "source": [
    "### postgres"
   ]
  },
  {
   "cell_type": "code",
   "execution_count": 202,
   "id": "4c1f05d3-6790-4d0c-8ccd-05bae0502555",
   "metadata": {},
   "outputs": [
    {
     "data": {
      "text/html": [
       "<div>\n",
       "<style scoped>\n",
       "    .dataframe tbody tr th:only-of-type {\n",
       "        vertical-align: middle;\n",
       "    }\n",
       "\n",
       "    .dataframe tbody tr th {\n",
       "        vertical-align: top;\n",
       "    }\n",
       "\n",
       "    .dataframe thead th {\n",
       "        text-align: right;\n",
       "    }\n",
       "</style>\n",
       "<table border=\"1\" class=\"dataframe\">\n",
       "  <thead>\n",
       "    <tr style=\"text-align: right;\">\n",
       "      <th></th>\n",
       "      <th>Meal ID</th>\n",
       "      <th>Date</th>\n",
       "      <th>Time</th>\n",
       "      <th>Meal component</th>\n",
       "      <th>Quantity per serving</th>\n",
       "      <th>Carbohydrates</th>\n",
       "      <th>Protein</th>\n",
       "      <th>Fat</th>\n",
       "      <th>Calories</th>\n",
       "    </tr>\n",
       "  </thead>\n",
       "  <tbody>\n",
       "    <tr>\n",
       "      <th>0</th>\n",
       "      <td>1</td>\n",
       "      <td>2025-02-25</td>\n",
       "      <td>12:00</td>\n",
       "      <td>Brown Bread (2 slices)</td>\n",
       "      <td>2 slices</td>\n",
       "      <td>20</td>\n",
       "      <td>5</td>\n",
       "      <td>5</td>\n",
       "      <td>200</td>\n",
       "    </tr>\n",
       "  </tbody>\n",
       "</table>\n",
       "</div>"
      ],
      "text/plain": [
       "  Meal ID        Date   Time          Meal component Quantity per serving  \\\n",
       "0       1  2025-02-25  12:00  Brown Bread (2 slices)             2 slices   \n",
       "\n",
       "  Carbohydrates Protein Fat Calories  \n",
       "0            20       5   5      200  "
      ]
     },
     "execution_count": 202,
     "metadata": {},
     "output_type": "execute_result"
    }
   ],
   "source": [
    "f'postgresql+psycopg2://{username}:{password}@{host}:{port}/{database}'\n",
    "df"
   ]
  },
  {
   "cell_type": "code",
   "execution_count": 243,
   "id": "ac617ab3-6ce3-4394-b232-d81c8c9870d8",
   "metadata": {},
   "outputs": [
    {
     "data": {
      "text/plain": [
       "4"
      ]
     },
     "execution_count": 243,
     "metadata": {},
     "output_type": "execute_result"
    }
   ],
   "source": [
    "import pandas as pd\n",
    "from sqlalchemy import create_engine\n",
    "\n",
    "# PostgreSQL connection details\n",
    "username = 'postgres'\n",
    "password = 'postgres'\n",
    "host = 'localhost'\n",
    "port = '5432'\n",
    "database = 'postgres'\n",
    "\n",
    "# Create SQLAlchemy engine\n",
    "engine = create_engine(f'postgresql+psycopg2://{username}:{password}@{host}:{port}/{database}')\n",
    "\n",
    "# Create a DataFrame\n",
    "#data = {'name': ['Alice', 'Bob', 'Charlie'], 'age': [25, 30, 35]}\n",
    "#df = pd.DataFrame(data)\n",
    "\n",
    "# Store DataFrame into PostgreSQL\n",
    "df.to_sql('table_name', engine, index=False, if_exists='replace')\n"
   ]
  },
  {
   "cell_type": "code",
   "execution_count": 189,
   "id": "41ea986f-2d17-48fa-8664-7430d0157c16",
   "metadata": {},
   "outputs": [],
   "source": [
    "r\t\t"
   ]
  },
  {
   "cell_type": "code",
   "execution_count": 244,
   "id": "2d4554b7-fccf-482c-b097-53128809da0a",
   "metadata": {},
   "outputs": [
    {
     "data": {
      "text/plain": [
       "4"
      ]
     },
     "execution_count": 244,
     "metadata": {},
     "output_type": "execute_result"
    }
   ],
   "source": [
    "df.to_sql('table_name', engine, index=False, if_exists='append')\n"
   ]
  },
  {
   "cell_type": "code",
   "execution_count": null,
   "id": "3fd71fbe-6c21-4572-963c-d02876228fce",
   "metadata": {},
   "outputs": [],
   "source": []
  }
 ],
 "metadata": {
  "kernelspec": {
   "display_name": "Python 3.11 (api-talkie)",
   "language": "python",
   "name": "python3"
  },
  "language_info": {
   "codemirror_mode": {
    "name": "ipython",
    "version": 3
   },
   "file_extension": ".py",
   "mimetype": "text/x-python",
   "name": "python",
   "nbconvert_exporter": "python",
   "pygments_lexer": "ipython3",
   "version": "3.11.11"
  }
 },
 "nbformat": 4,
 "nbformat_minor": 5
}
