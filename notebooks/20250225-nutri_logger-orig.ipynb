{
 "cells": [
  {
   "cell_type": "markdown",
   "id": "8025a01e-616b-4166-843b-2a227db8b83b",
   "metadata": {},
   "source": [
    "### imports and globals"
   ]
  },
  {
   "cell_type": "code",
   "execution_count": 15,
   "id": "003d989d-05a1-4d4a-afe8-5b5405701764",
   "metadata": {},
   "outputs": [],
   "source": [
    "import os\n",
    "from google import genai\n",
    "from google.genai import types\n",
    "from dotenv import load_dotenv"
   ]
  },
  {
   "cell_type": "code",
   "execution_count": 17,
   "id": "142d20d5-2256-4e27-a98b-79fd185cec55",
   "metadata": {},
   "outputs": [
    {
     "data": {
      "text/plain": [
       "True"
      ]
     },
     "execution_count": 17,
     "metadata": {},
     "output_type": "execute_result"
    }
   ],
   "source": [
    "load_dotenv()"
   ]
  },
  {
   "cell_type": "code",
   "execution_count": 7,
   "id": "986fc4a3-9ecf-40cf-979c-8dcb7cbafab5",
   "metadata": {},
   "outputs": [],
   "source": [
    "GOOGLE_API_KEY = os.environ[\"GOOGLE_API_KEY\"]\n",
    "OPEN_AI_KEY = os.environ[\"OPEN_AI_KEY\"]"
   ]
  },
  {
   "cell_type": "markdown",
   "id": "24dc6af5-da94-4246-a1bd-65b511d48802",
   "metadata": {},
   "source": [
    "### access GenAI chat API"
   ]
  },
  {
   "cell_type": "code",
   "execution_count": null,
   "id": "be1ef6ce-c16a-4d89-aff4-b78c00327426",
   "metadata": {},
   "outputs": [],
   "source": [
    "from google.genai.types import Tool, GenerateContentConfig, GoogleSearch\n",
    "from enum import Enum, auto\n",
    "from strenum import LowercaseStrEnum\n",
    "\n",
    "\n",
    "class MODEL_ID(LowercaseStrEnum):\n",
    "    GEMINI_1_5_FLASH_8B = \"gemini-1.5-flash-8b\"\n",
    "    GEMINI_2_0_FLASH = \"gemini-2.0-flash\""
   ]
  },
  {
   "cell_type": "code",
   "execution_count": null,
   "id": "32a86513-70dd-47bf-b3a7-bfb8b587450b",
   "metadata": {},
   "outputs": [],
   "source": [
    "    google_search_tool = Tool(\n",
    "    google_search = GoogleSearch()\n",
    ")\n",
    "\n",
    "response = client.models.generate_content(\n",
    "    model=MODEL_ID.GEMINI_2_0_FLASH,\n",
    "    contents=contents=(prompt_template + \"Human: Today at noon I ate 1 sandwich made from 2 slices brown bread, tomato,\" \n",
    "              \"1 slice of cheese and cucumber. AI:\"), \n",
    "    config=types.GenerateContentConfig(\n",
    "    config=GenerateContentConfig(\n",
    "        tools=[google_search_tool],\n",
    "        response_modalities=[\"TEXT\"],\n",
    "    )\n",
    ")\n",
    "\n",
    "for each in response.candidates[0].content.parts:\n",
    "    print(each.text)\n",
    "# Example response:\n",
    "# The next total solar eclipse visible in the contiguous United States will be on ...\n",
    "\n",
    "# To get grounding metadata as web content.\n",
    "print(response.candidates[0].grounding_metadata.search_entry_point.rendered_content)"
   ]
  },
  {
   "cell_type": "code",
   "execution_count": 123,
   "id": "b8f6ed6c-0d01-4fc1-81c3-517459ee3ce4",
   "metadata": {},
   "outputs": [],
   "source": [
    "nutri_prompt_template = (\"You are a search assistant. The human user will give you a description of their meals, portion size and the time they consumed it. Your task is to analyse the meals, log the date and time of each meal,\"\n",
    "    \"and then decompose the meal and its ingredients into their nutrient content. MAke sensible guesses about portions where user does not provide\"\n",
    "    \"Output the amount of carbohydrates, fats, proteins in grams, and calories. Also highlight any other key nutrients such as vitamins and minerals present in that portion\"\n",
    "    \"Please give a unique id to each meal, that is repeated across its components. Answer with the nutritional breakdown of the in a tabular format (and nothing else) with columns for: \"\n",
    "    \"- Meal ID\"\n",
    "    \"- Date\"\n",
    "    \"- Time\"\n",
    "    \"- Meal component\"\n",
    "    \"- Quantity per serving\"\n",
    "    \"- Carbohydrates\"\n",
    "    \"- Protein\"\n",
    "    \"- Fat\"\n",
    "    \"- Calories\"\n",
    "    \"Only answer with the table, and nothing else.\")"
   ]
  },
  {
   "cell_type": "code",
   "execution_count": null,
   "id": "14ca18ee-9787-418a-a0d7-aa4b72aec0ee",
   "metadata": {},
   "outputs": [],
   "source": []
  },
  {
   "cell_type": "code",
   "execution_count": 120,
   "id": "2765dbea-6d0e-4703-af26-9c8390d6275d",
   "metadata": {},
   "outputs": [],
   "source": [
    "# Set up the prompt.\n",
    "prompt_template = PromptTemplate(\n",
    "    template = nutri_prompt_template + \"\\n{format_instructions}\\n{meal_description}\\n\",\n",
    "    input_variables=[\"meal_description\"],\n",
    "    partial_variables={\"format_instructions\": parser.get_format_instructions()},\n",
    ")"
   ]
  },
  {
   "cell_type": "code",
   "execution_count": 126,
   "id": "a5b7f6e5-9e18-4300-835b-4243af1290ba",
   "metadata": {},
   "outputs": [],
   "source": [
    "meal_description = (\"Today is 2025-02-25. At noon I ate 1 sandwich made from 2 slices brown bread, tomato,\" \n",
    "              \"1 slice of cheese and cucumber. At dinner 9pm, I ate 2 rotis with 1 bowl (100g) of chicken curry and 1 bowl of raita.\")\n",
    "\n",
    "\n",
    "# Generate the prompt\n",
    "filled_prompt = prompt_template.invoke({\"meal_description\": meal_description})\n"
   ]
  },
  {
   "cell_type": "code",
   "execution_count": 165,
   "id": "d16e284b-3b3b-4ecf-8607-ba4318d665f9",
   "metadata": {
    "scrolled": true
   },
   "outputs": [
    {
     "name": "stdout",
     "output_type": "stream",
     "text": [
      "```\n",
      "Meal ID,Date,Time,Meal component,Quantity per serving,Carbohydrates,Protein,Fat,Calories\n",
      "1,2025-02-25,12:00,Sandwich,1,20,10,8,250\n",
      "1,2025-02-25,12:00,Brown Bread,2 slices,15,4,2,100\n",
      "1,2025-02-25,12:00,Tomato,1,2,1,0,5\n",
      "1,2025-02-25,12:00,Cheese,1 slice,2,7,5,50\n",
      "1,2025-02-25,12:00,Cucumber,1,1,1,0,5\n",
      "2,2025-02-25,21:00,Roti,2,30,5,2,150\n",
      "2,2025-02-25,21:00,Chicken Curry,100g,15,20,10,200\n",
      "2,2025-02-25,21:00,Raita,1 bowl,10,2,2,50\n",
      "```\n",
      "\n"
     ]
    }
   ],
   "source": [
    "client = google.genai.Client(api_key=GOOGLE_API_KEY)\n",
    "\n",
    "response = client.models.generate_content(\n",
    "    model=MODEL_ID.GEMINI_1_5_FLASH_8B,\n",
    "    contents=filled_prompt, \n",
    "    config=types.GenerateContentConfig(\n",
    "        temperature=0,\n",
    "        top_p=0.95,\n",
    "        top_k=20,\n",
    "        candidate_count=1,\n",
    "        seed=5,\n",
    "        max_output_tokens=512,\n",
    "        stop_sequences=['STOP!'],\n",
    "        presence_penalty=0.0,\n",
    "        frequency_penalty=0.0,\n",
    "    ),\n",
    "    \n",
    "\n",
    ")\n",
    "\n",
    "print(response.text)"
   ]
  },
  {
   "cell_type": "code",
   "execution_count": 184,
   "id": "e137a8b5-5521-420b-9d7c-6eb3e944df83",
   "metadata": {},
   "outputs": [
    {
     "data": {
      "text/plain": [
       "'Meal ID,Date,Time,Meal component,Quantity per serving,Carbohydrates,Protein,Fat,Calories\\n1,2025-02-25,12:00,Brown Bread,2 slices,24,4,2,130\\n1,2025-02-25,12:00,Tomato,50g,2,0.5,0.1,10\\n1,2025-02-25,12:00,Cheese,20g,1,5,6,80\\n1,2025-02-25,12:00,Cucumber,50g,2,0.5,0.1,8\\n2,2025-02-25,21:00,Roti,2,60,6,2,300\\n2,2025-02-25,21:00,Chicken Curry,100g,8,25,15,270\\n2,2025-02-25,21:00,Raita,1 bowl,10,2,5,90'"
      ]
     },
     "execution_count": 184,
     "metadata": {},
     "output_type": "execute_result"
    }
   ],
   "source": [
    "response_text"
   ]
  },
  {
   "cell_type": "code",
   "execution_count": 183,
   "id": "03047053-8c89-45c2-883f-122f38520490",
   "metadata": {},
   "outputs": [],
   "source": [
    "REPLACEMENTS = [\"```\\n\", \"\\n```\", \"```\"]\n",
    "response_text = response.text()\n",
    "for replacement in REPLACEMENTS:\n",
    "    response_text = response_text.replace(replacement, \"\")"
   ]
  },
  {
   "cell_type": "code",
   "execution_count": 168,
   "id": "088ee61f-cb32-4e9d-80fb-ba5124c7dd26",
   "metadata": {
    "collapsed": true,
    "jupyter": {
     "outputs_hidden": true
    },
    "scrolled": true
   },
   "outputs": [
    {
     "ename": "OutputParserException",
     "evalue": "Request '```\nMeal ID,Date,Time,Meal component,Quantity per serving,Carbohydrates,Protein,Fat,Calories\n1,2025-02-25,12:00,Sandwich,1,20,10,8,250\n1,2025-02-25,12:00,Brown Bread,2 slices,15,4,2,100\n1,2025-02-25,12:00,Tomato,1,2,1,0,5\n1,2025-02-25,12:00,Cheese,1 slice,2,7,5,50\n1,2025-02-25,12:00,Cucumber,1,1,1,0,5\n2,2025-02-25,21:00,Roti,2,30,5,2,150\n2,2025-02-25,21:00,Chicken Curry,100g,15,20,10,200\n2,2025-02-25,21:00,Raita,1 bowl,10,2,2,50\n```\n' is not correctly formatted.                     Please refer to the format instructions.\nFor troubleshooting, visit: https://python.langchain.com/docs/troubleshooting/errors/OUTPUT_PARSING_FAILURE ",
     "output_type": "error",
     "traceback": [
      "\u001b[0;31m---------------------------------------------------------------------------\u001b[0m",
      "\u001b[0;31mOutputParserException\u001b[0m                     Traceback (most recent call last)",
      "Cell \u001b[0;32mIn[168], line 3\u001b[0m\n\u001b[1;32m      1\u001b[0m \u001b[38;5;66;03m#lines = response_text.split('\\n')\u001b[39;00m\n\u001b[1;32m      2\u001b[0m \u001b[38;5;66;03m#parsed_data = [line.split('|') for line in lines[:-1]]\u001b[39;00m\n\u001b[0;32m----> 3\u001b[0m \u001b[43mparser\u001b[49m\u001b[38;5;241;43m.\u001b[39;49m\u001b[43mparse\u001b[49m\u001b[43m(\u001b[49m\u001b[43mresponse\u001b[49m\u001b[38;5;241;43m.\u001b[39;49m\u001b[43mtext\u001b[49m\u001b[43m)\u001b[49m\n",
      "File \u001b[0;32m~/PycharmProjects/api_talkie/.venv/lib/python3.11/site-packages/langchain/output_parsers/pandas_dataframe.py:85\u001b[0m, in \u001b[0;36mPandasDataFrameOutputParser.parse\u001b[0;34m(self, request)\u001b[0m\n\u001b[1;32m     83\u001b[0m splitted_request \u001b[38;5;241m=\u001b[39m request\u001b[38;5;241m.\u001b[39mstrip()\u001b[38;5;241m.\u001b[39msplit(\u001b[38;5;124m\"\u001b[39m\u001b[38;5;124m:\u001b[39m\u001b[38;5;124m\"\u001b[39m)\n\u001b[1;32m     84\u001b[0m \u001b[38;5;28;01mif\u001b[39;00m \u001b[38;5;28mlen\u001b[39m(splitted_request) \u001b[38;5;241m!=\u001b[39m \u001b[38;5;241m2\u001b[39m:\n\u001b[0;32m---> 85\u001b[0m     \u001b[38;5;28;01mraise\u001b[39;00m OutputParserException(\n\u001b[1;32m     86\u001b[0m         \u001b[38;5;124mf\u001b[39m\u001b[38;5;124m\"\u001b[39m\u001b[38;5;124mRequest \u001b[39m\u001b[38;5;124m'\u001b[39m\u001b[38;5;132;01m{\u001b[39;00mrequest\u001b[38;5;132;01m}\u001b[39;00m\u001b[38;5;124m'\u001b[39m\u001b[38;5;124m is not correctly formatted. \u001b[39m\u001b[38;5;130;01m\\\u001b[39;00m\n\u001b[1;32m     87\u001b[0m \u001b[38;5;124m            Please refer to the format instructions.\u001b[39m\u001b[38;5;124m\"\u001b[39m\n\u001b[1;32m     88\u001b[0m     )\n\u001b[1;32m     89\u001b[0m result \u001b[38;5;241m=\u001b[39m {}\n\u001b[1;32m     90\u001b[0m \u001b[38;5;28;01mtry\u001b[39;00m:\n",
      "\u001b[0;31mOutputParserException\u001b[0m: Request '```\nMeal ID,Date,Time,Meal component,Quantity per serving,Carbohydrates,Protein,Fat,Calories\n1,2025-02-25,12:00,Sandwich,1,20,10,8,250\n1,2025-02-25,12:00,Brown Bread,2 slices,15,4,2,100\n1,2025-02-25,12:00,Tomato,1,2,1,0,5\n1,2025-02-25,12:00,Cheese,1 slice,2,7,5,50\n1,2025-02-25,12:00,Cucumber,1,1,1,0,5\n2,2025-02-25,21:00,Roti,2,30,5,2,150\n2,2025-02-25,21:00,Chicken Curry,100g,15,20,10,200\n2,2025-02-25,21:00,Raita,1 bowl,10,2,2,50\n```\n' is not correctly formatted.                     Please refer to the format instructions.\nFor troubleshooting, visit: https://python.langchain.com/docs/troubleshooting/errors/OUTPUT_PARSING_FAILURE "
     ]
    }
   ],
   "source": [
    "#lines = response_text.split('\\n')\n",
    "#parsed_data = [line.split('|') for line in lines[:-1]]\n",
    "parser.parse(response.text)"
   ]
  },
  {
   "cell_type": "code",
   "execution_count": null,
   "id": "78e0041a-b082-4d39-82e2-7bb92e09bd60",
   "metadata": {},
   "outputs": [],
   "source": [
    "from langchain_google_genai import ChatGoogleGenerativeAI\n",
    "\n",
    "# Define custom generation configuration\n",
    "client_options = {\n",
    "    \"temperature\": 0.7,  # Controls randomness\n",
    "    \"top_p\": 0.9,        # Nucleus sampling\n",
    "    \"max_output_tokens\": 512,  # Limit on output tokens\n",
    "    \"stop_sequences\": [\"\\n\"],   # Optional stop sequences\n",
    "}\n",
    "\n",
    "# Initialize ChatGoogleGenerativeAI with generate_config via client_options\n",
    "llm = ChatGoogleGenerativeAI(\n",
    "    model=\"gemini-1.5-pro\",\n",
    "    client_options=client_options\n",
    ")\n",
    "\n",
    "# Send a query to the model\n",
    "response = llm.invoke(\"Write a summary about climate change.\")\n",
    "print(response.content)\n"
   ]
  },
  {
   "cell_type": "code",
   "execution_count": 176,
   "id": "2fe1c44d-516c-4941-92a7-45d61fcb4d1f",
   "metadata": {
    "scrolled": true
   },
   "outputs": [
    {
     "name": "stdout",
     "output_type": "stream",
     "text": [
      "```\n",
      "Meal ID,Date,Time,Meal component,Quantity per serving,Carbohydrates,Protein,Fat,Calories\n",
      "1,2025-02-25,12:00,Brown Bread,2 slices,24,4,2,130\n",
      "1,2025-02-25,12:00,Tomato,50g,2,0.5,0.1,10\n",
      "1,2025-02-25,12:00,Cheese,20g,1,5,6,80\n",
      "1,2025-02-25,12:00,Cucumber,50g,2,0.5,0.1,8\n",
      "2,2025-02-25,21:00,Roti,2,60,6,2,300\n",
      "2,2025-02-25,21:00,Chicken Curry,100g,8,25,15,270\n",
      "2,2025-02-25,21:00,Raita,1 bowl,10,2,5,90\n",
      "```\n"
     ]
    }
   ],
   "source": [
    "from langchain_google_genai import ChatGoogleGenerativeAI\n",
    "\n",
    "# Define custom GenerateContentConfig parameters\n",
    "client_options = {\n",
    "    \"temperature\": 0.7,  # Controls randomness\n",
    "    \"max_output_tokens\": 100,  # Limit on output tokens\n",
    "    \"stop_sequences\": [\"\\n\"],   # Optional stop sequences\n",
    "}\n",
    "\n",
    "\n",
    "# Initialize ChatGoogleGenerativeAI with client options\n",
    "llm = ChatGoogleGenerativeAI(\n",
    "    model = MODEL_ID.GEMINI_2_0_FLASH,\n",
    "    google_api_key = GOOGLE_API_KEY,\n",
    "    #client_options = client_options \n",
    ") #{'generate_content_config': {'max_output_tokens': 100}})\n",
    "\n",
    "# Invoke the model with a prompt\n",
    "response = llm.invoke(filled_prompt.text )\n",
    "print(response.content)\n"
   ]
  },
  {
   "cell_type": "code",
   "execution_count": 185,
   "id": "6276aa3c-1671-4fd1-b432-72821b0d68b3",
   "metadata": {},
   "outputs": [
    {
     "data": {
      "text/html": [
       "<div>\n",
       "<style scoped>\n",
       "    .dataframe tbody tr th:only-of-type {\n",
       "        vertical-align: middle;\n",
       "    }\n",
       "\n",
       "    .dataframe tbody tr th {\n",
       "        vertical-align: top;\n",
       "    }\n",
       "\n",
       "    .dataframe thead th {\n",
       "        text-align: right;\n",
       "    }\n",
       "</style>\n",
       "<table border=\"1\" class=\"dataframe\">\n",
       "  <thead>\n",
       "    <tr style=\"text-align: right;\">\n",
       "      <th></th>\n",
       "      <th>Meal ID</th>\n",
       "      <th>Date</th>\n",
       "      <th>Time</th>\n",
       "      <th>Meal component</th>\n",
       "      <th>Quantity per serving</th>\n",
       "      <th>Carbohydrates</th>\n",
       "      <th>Protein</th>\n",
       "      <th>Fat</th>\n",
       "      <th>Calories</th>\n",
       "    </tr>\n",
       "  </thead>\n",
       "  <tbody>\n",
       "    <tr>\n",
       "      <th>0</th>\n",
       "      <td>1</td>\n",
       "      <td>2025-02-25</td>\n",
       "      <td>12:00</td>\n",
       "      <td>Brown Bread</td>\n",
       "      <td>2 slices</td>\n",
       "      <td>24</td>\n",
       "      <td>4.0</td>\n",
       "      <td>2.0</td>\n",
       "      <td>130</td>\n",
       "    </tr>\n",
       "    <tr>\n",
       "      <th>1</th>\n",
       "      <td>1</td>\n",
       "      <td>2025-02-25</td>\n",
       "      <td>12:00</td>\n",
       "      <td>Tomato</td>\n",
       "      <td>50g</td>\n",
       "      <td>2</td>\n",
       "      <td>0.5</td>\n",
       "      <td>0.1</td>\n",
       "      <td>10</td>\n",
       "    </tr>\n",
       "    <tr>\n",
       "      <th>2</th>\n",
       "      <td>1</td>\n",
       "      <td>2025-02-25</td>\n",
       "      <td>12:00</td>\n",
       "      <td>Cheese</td>\n",
       "      <td>20g</td>\n",
       "      <td>1</td>\n",
       "      <td>5.0</td>\n",
       "      <td>6.0</td>\n",
       "      <td>80</td>\n",
       "    </tr>\n",
       "    <tr>\n",
       "      <th>3</th>\n",
       "      <td>1</td>\n",
       "      <td>2025-02-25</td>\n",
       "      <td>12:00</td>\n",
       "      <td>Cucumber</td>\n",
       "      <td>50g</td>\n",
       "      <td>2</td>\n",
       "      <td>0.5</td>\n",
       "      <td>0.1</td>\n",
       "      <td>8</td>\n",
       "    </tr>\n",
       "    <tr>\n",
       "      <th>4</th>\n",
       "      <td>2</td>\n",
       "      <td>2025-02-25</td>\n",
       "      <td>21:00</td>\n",
       "      <td>Roti</td>\n",
       "      <td>2</td>\n",
       "      <td>60</td>\n",
       "      <td>6.0</td>\n",
       "      <td>2.0</td>\n",
       "      <td>300</td>\n",
       "    </tr>\n",
       "    <tr>\n",
       "      <th>5</th>\n",
       "      <td>2</td>\n",
       "      <td>2025-02-25</td>\n",
       "      <td>21:00</td>\n",
       "      <td>Chicken Curry</td>\n",
       "      <td>100g</td>\n",
       "      <td>8</td>\n",
       "      <td>25.0</td>\n",
       "      <td>15.0</td>\n",
       "      <td>270</td>\n",
       "    </tr>\n",
       "    <tr>\n",
       "      <th>6</th>\n",
       "      <td>2</td>\n",
       "      <td>2025-02-25</td>\n",
       "      <td>21:00</td>\n",
       "      <td>Raita</td>\n",
       "      <td>1 bowl</td>\n",
       "      <td>10</td>\n",
       "      <td>2.0</td>\n",
       "      <td>5.0</td>\n",
       "      <td>90</td>\n",
       "    </tr>\n",
       "  </tbody>\n",
       "</table>\n",
       "</div>"
      ],
      "text/plain": [
       "   Meal ID        Date   Time Meal component Quantity per serving  \\\n",
       "0        1  2025-02-25  12:00    Brown Bread             2 slices   \n",
       "1        1  2025-02-25  12:00         Tomato                  50g   \n",
       "2        1  2025-02-25  12:00         Cheese                  20g   \n",
       "3        1  2025-02-25  12:00       Cucumber                  50g   \n",
       "4        2  2025-02-25  21:00           Roti                    2   \n",
       "5        2  2025-02-25  21:00  Chicken Curry                 100g   \n",
       "6        2  2025-02-25  21:00          Raita               1 bowl   \n",
       "\n",
       "   Carbohydrates  Protein   Fat  Calories  \n",
       "0             24      4.0   2.0       130  \n",
       "1              2      0.5   0.1        10  \n",
       "2              1      5.0   6.0        80  \n",
       "3              2      0.5   0.1         8  \n",
       "4             60      6.0   2.0       300  \n",
       "5              8     25.0  15.0       270  \n",
       "6             10      2.0   5.0        90  "
      ]
     },
     "execution_count": 185,
     "metadata": {},
     "output_type": "execute_result"
    }
   ],
   "source": [
    "from io import StringIO\n",
    "\n",
    "csv_data = StringIO(response_text)\n",
    "pd.read_csv(csv_data)"
   ]
  },
  {
   "cell_type": "code",
   "execution_count": null,
   "id": "229fec9d-aaee-44a2-9093-fdcd9a30ac3e",
   "metadata": {},
   "outputs": [],
   "source": []
  },
  {
   "cell_type": "markdown",
   "id": "f381d573-bb2f-4ae2-8c1c-efbb804352e3",
   "metadata": {},
   "source": [
    "## agent"
   ]
  },
  {
   "cell_type": "code",
   "execution_count": null,
   "id": "9dacf552-0c4a-4744-aafa-36096ddf012b",
   "metadata": {},
   "outputs": [],
   "source": [
    "from langchain.agents import initialize_agent, AgentType\n",
    "\n",
    "# Combine LLM and tools into an agent\n",
    "tools = [search_tool]\n",
    "agent = initialize_agent(\n",
    "    tools=tools,\n",
    "    llm=llm,\n",
    "    agent=AgentType.ZERO_SHOT_REACT_DESCRIPTION,\n",
    "    verbose=True,\n",
    ")\n",
    "\n",
    "# Example query that requires search\n",
    "query = \"What are the latest advancements in AI research? Please answer in not more than 5 lines\"\n",
    "\n",
    "response = agent.run(query)\n",
    "\n",
    "print(response)\n"
   ]
  },
  {
   "cell_type": "code",
   "execution_count": null,
   "id": "2c83fbd9-3ed3-4b85-abec-7d54a51019e0",
   "metadata": {},
   "outputs": [],
   "source": []
  },
  {
   "cell_type": "code",
   "execution_count": null,
   "id": "a504c5ec-9fef-4cd0-8817-755572346a7a",
   "metadata": {},
   "outputs": [],
   "source": []
  },
  {
   "cell_type": "code",
   "execution_count": null,
   "id": "6549f242-3668-4fd2-8f00-af7830cbdde4",
   "metadata": {},
   "outputs": [],
   "source": []
  },
  {
   "cell_type": "code",
   "execution_count": null,
   "id": "c9ea2c85-58c6-4b60-b7c5-98027ece9421",
   "metadata": {},
   "outputs": [],
   "source": []
  },
  {
   "cell_type": "markdown",
   "id": "95fff60f-d3d4-4316-ba70-ff67febdc1da",
   "metadata": {},
   "source": [
    "### try formatting into a dataframe"
   ]
  },
  {
   "cell_type": "code",
   "execution_count": 113,
   "id": "e2221f8b-91e7-4f0a-b0a6-84816d050b95",
   "metadata": {},
   "outputs": [],
   "source": [
    "import pandas as pd\n",
    "from langchain.output_parsers import PandasDataFrameOutputParser\n",
    "from langchain_core.prompts import PromptTemplate\n"
   ]
  },
  {
   "cell_type": "code",
   "execution_count": null,
   "id": "30872e3b-f54f-4d98-baff-9926c0abfce2",
   "metadata": {
    "jupyter": {
     "source_hidden": true
    }
   },
   "outputs": [],
   "source": [
    "from langchain_google_genai import ChatGoogleGenerativeAI\n",
    "\n",
    "llm = ChatGoogleGenerativeAI(\n",
    "    model = MODEL_ID.GEMINI_1_5_FLASH_8B,\n",
    "    temperature=0,\n",
    "    max_tokens=None,\n",
    "    timeout=None,\n",
    "    max_retries=2,\n",
    "    # other params...\n",
    ")"
   ]
  },
  {
   "cell_type": "code",
   "execution_count": 160,
   "id": "0e88c0c6-def8-47a6-b863-8841d1649adb",
   "metadata": {},
   "outputs": [],
   "source": [
    "# Define your desired Pandas DataFrame.\n",
    "df = pd.DataFrame(\n",
    "    columns = ['Meal ID',\n",
    "               'Date',\n",
    "               'Time',\n",
    "               'Meal component',\n",
    "               'Quantity per serving',\n",
    "               'Carbohydrates',\n",
    "               'Protein',\n",
    "               'Fat',\n",
    "               'Calories'],\n",
    "    data = [['1',\n",
    "            '2025-02-25',\n",
    "            '12:00',\n",
    "            'Brown Bread (2 slices)',\n",
    "            '2 slices',\n",
    "            '20',\n",
    "            '5',\n",
    "            '5',\n",
    "            '200']]\n",
    ")\n",
    "\n",
    "# Set up a parser + inject instructions into the prompt template.\n",
    "parser = PandasDataFrameOutputParser(dataframe=df)"
   ]
  },
  {
   "cell_type": "code",
   "execution_count": null,
   "id": "5732a89d-a39d-45e8-b592-fe65fc13c7ff",
   "metadata": {},
   "outputs": [],
   "source": []
  },
  {
   "cell_type": "markdown",
   "id": "a26c8c8a-83d9-4c29-9cb7-cccbd6a898ca",
   "metadata": {
    "jp-MarkdownHeadingCollapsed": true
   },
   "source": [
    "### openai trial"
   ]
  },
  {
   "cell_type": "code",
   "execution_count": 169,
   "id": "ae7df2eb-4326-46be-b7df-4eafd84dd2d5",
   "metadata": {},
   "outputs": [
    {
     "ename": "ModuleNotFoundError",
     "evalue": "No module named 'langchain_openai'",
     "output_type": "error",
     "traceback": [
      "\u001b[0;31m---------------------------------------------------------------------------\u001b[0m",
      "\u001b[0;31mModuleNotFoundError\u001b[0m                       Traceback (most recent call last)",
      "Cell \u001b[0;32mIn[169], line 7\u001b[0m\n\u001b[1;32m      5\u001b[0m \u001b[38;5;28;01mfrom\u001b[39;00m\u001b[38;5;250m \u001b[39m\u001b[38;5;21;01mlangchain\u001b[39;00m\u001b[38;5;21;01m.\u001b[39;00m\u001b[38;5;21;01moutput_parsers\u001b[39;00m\u001b[38;5;250m \u001b[39m\u001b[38;5;28;01mimport\u001b[39;00m PandasDataFrameOutputParser\n\u001b[1;32m      6\u001b[0m \u001b[38;5;28;01mfrom\u001b[39;00m\u001b[38;5;250m \u001b[39m\u001b[38;5;21;01mlangchain_core\u001b[39;00m\u001b[38;5;21;01m.\u001b[39;00m\u001b[38;5;21;01mprompts\u001b[39;00m\u001b[38;5;250m \u001b[39m\u001b[38;5;28;01mimport\u001b[39;00m PromptTemplate\n\u001b[0;32m----> 7\u001b[0m \u001b[38;5;28;01mfrom\u001b[39;00m\u001b[38;5;250m \u001b[39m\u001b[38;5;21;01mlangchain_openai\u001b[39;00m\u001b[38;5;250m \u001b[39m\u001b[38;5;28;01mimport\u001b[39;00m ChatOpenAI\n",
      "\u001b[0;31mModuleNotFoundError\u001b[0m: No module named 'langchain_openai'"
     ]
    }
   ],
   "source": [
    "import pprint\n",
    "from typing import Any, Dict\n",
    "\n",
    "import pandas as pd\n",
    "from langchain.output_parsers import PandasDataFrameOutputParser\n",
    "from langchain_core.prompts import PromptTemplate\n",
    "from langchain_openai import ChatOpenAI"
   ]
  },
  {
   "cell_type": "code",
   "execution_count": null,
   "id": "41ea986f-2d17-48fa-8664-7430d0157c16",
   "metadata": {},
   "outputs": [],
   "source": [
    "model = ChatOpenAI(temperature=0)"
   ]
  }
 ],
 "metadata": {
  "kernelspec": {
   "display_name": "Python 3.11 (api-talkie)",
   "language": "python",
   "name": "python3"
  },
  "language_info": {
   "codemirror_mode": {
    "name": "ipython",
    "version": 3
   },
   "file_extension": ".py",
   "mimetype": "text/x-python",
   "name": "python",
   "nbconvert_exporter": "python",
   "pygments_lexer": "ipython3",
   "version": "3.11.11"
  }
 },
 "nbformat": 4,
 "nbformat_minor": 5
}
