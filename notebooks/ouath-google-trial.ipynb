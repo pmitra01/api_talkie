{
 "cells": [
  {
   "cell_type": "code",
   "execution_count": 9,
   "id": "8d1b0255-0779-4d9a-9cd8-b78a561e1916",
   "metadata": {
    "scrolled": true
   },
   "outputs": [
    {
     "name": "stdout",
     "output_type": "stream",
     "text": [
      "Please visit this URL to authorize this application: https://accounts.google.com/o/oauth2/auth?response_type=code&client_id=507912620340-2jqj2nmhvffrc99uct71mjgu1ssemhv8.apps.googleusercontent.com&redirect_uri=http%3A%2F%2Flocalhost%3A49557%2F&scope=https%3A%2F%2Fwww.googleapis.com%2Fauth%2Fgmail.send&state=E9204UbZL3MiMAPjOGnsKkTQgShNqP&access_type=offline\n"
     ]
    },
    {
     "ename": "KeyboardInterrupt",
     "evalue": "",
     "output_type": "error",
     "traceback": [
      "\u001b[0;31m---------------------------------------------------------------------------\u001b[0m",
      "\u001b[0;31mKeyboardInterrupt\u001b[0m                         Traceback (most recent call last)",
      "Cell \u001b[0;32mIn[9], line 29\u001b[0m\n\u001b[1;32m     26\u001b[0m     \u001b[38;5;28;01mreturn\u001b[39;00m creds\n\u001b[1;32m     28\u001b[0m \u001b[38;5;28;01mif\u001b[39;00m \u001b[38;5;18m__name__\u001b[39m \u001b[38;5;241m==\u001b[39m \u001b[38;5;124m'\u001b[39m\u001b[38;5;124m__main__\u001b[39m\u001b[38;5;124m'\u001b[39m:\n\u001b[0;32m---> 29\u001b[0m     \u001b[43mmain\u001b[49m\u001b[43m(\u001b[49m\u001b[43m)\u001b[49m\n",
      "Cell \u001b[0;32mIn[9], line 23\u001b[0m, in \u001b[0;36mmain\u001b[0;34m()\u001b[0m\n\u001b[1;32m     18\u001b[0m     flow \u001b[38;5;241m=\u001b[39m InstalledAppFlow\u001b[38;5;241m.\u001b[39mfrom_client_secrets_file(\n\u001b[1;32m     19\u001b[0m         CLIENT_JSON_FNAME, SCOPES,\n\u001b[1;32m     20\u001b[0m         redirect_uri \u001b[38;5;241m=\u001b[39m \u001b[38;5;124m\"\u001b[39m\u001b[38;5;124mhttp://localhost:8888\u001b[39m\u001b[38;5;124m\"\u001b[39m,\n\u001b[1;32m     21\u001b[0m     )\n\u001b[1;32m     22\u001b[0m         \u001b[38;5;66;03m#'client_id.json', SCOPES)\u001b[39;00m\n\u001b[0;32m---> 23\u001b[0m     creds \u001b[38;5;241m=\u001b[39m \u001b[43mflow\u001b[49m\u001b[38;5;241;43m.\u001b[39;49m\u001b[43mrun_local_server\u001b[49m\u001b[43m(\u001b[49m\u001b[43mport\u001b[49m\u001b[38;5;241;43m=\u001b[39;49m\u001b[38;5;241;43m0\u001b[39;49m\u001b[43m)\u001b[49m\n\u001b[1;32m     24\u001b[0m \u001b[38;5;28;01mwith\u001b[39;00m \u001b[38;5;28mopen\u001b[39m(\u001b[38;5;124m'\u001b[39m\u001b[38;5;124mtoken.pickle\u001b[39m\u001b[38;5;124m'\u001b[39m, \u001b[38;5;124m'\u001b[39m\u001b[38;5;124mwb\u001b[39m\u001b[38;5;124m'\u001b[39m) \u001b[38;5;28;01mas\u001b[39;00m token:\n\u001b[1;32m     25\u001b[0m     pickle\u001b[38;5;241m.\u001b[39mdump(creds, token)\n",
      "File \u001b[0;32m~/PycharmProjects/api_talkie/.venv/lib/python3.11/site-packages/google_auth_oauthlib/flow.py:453\u001b[0m, in \u001b[0;36mInstalledAppFlow.run_local_server\u001b[0;34m(self, host, bind_addr, port, authorization_prompt_message, success_message, open_browser, redirect_uri_trailing_slash, timeout_seconds, token_audience, browser, **kwargs)\u001b[0m\n\u001b[1;32m    450\u001b[0m     \u001b[38;5;28mprint\u001b[39m(authorization_prompt_message\u001b[38;5;241m.\u001b[39mformat(url\u001b[38;5;241m=\u001b[39mauth_url))\n\u001b[1;32m    452\u001b[0m local_server\u001b[38;5;241m.\u001b[39mtimeout \u001b[38;5;241m=\u001b[39m timeout_seconds\n\u001b[0;32m--> 453\u001b[0m \u001b[43mlocal_server\u001b[49m\u001b[38;5;241;43m.\u001b[39;49m\u001b[43mhandle_request\u001b[49m\u001b[43m(\u001b[49m\u001b[43m)\u001b[49m\n\u001b[1;32m    455\u001b[0m \u001b[38;5;66;03m# Note: using https here because oauthlib is very picky that\u001b[39;00m\n\u001b[1;32m    456\u001b[0m \u001b[38;5;66;03m# OAuth 2.0 should only occur over https.\u001b[39;00m\n\u001b[1;32m    457\u001b[0m authorization_response \u001b[38;5;241m=\u001b[39m wsgi_app\u001b[38;5;241m.\u001b[39mlast_request_uri\u001b[38;5;241m.\u001b[39mreplace(\u001b[38;5;124m\"\u001b[39m\u001b[38;5;124mhttp\u001b[39m\u001b[38;5;124m\"\u001b[39m, \u001b[38;5;124m\"\u001b[39m\u001b[38;5;124mhttps\u001b[39m\u001b[38;5;124m\"\u001b[39m)\n",
      "File \u001b[0;32m~/.pyenv/versions/3.11.11/lib/python3.11/socketserver.py:295\u001b[0m, in \u001b[0;36mBaseServer.handle_request\u001b[0;34m(self)\u001b[0m\n\u001b[1;32m    292\u001b[0m selector\u001b[38;5;241m.\u001b[39mregister(\u001b[38;5;28mself\u001b[39m, selectors\u001b[38;5;241m.\u001b[39mEVENT_READ)\n\u001b[1;32m    294\u001b[0m \u001b[38;5;28;01mwhile\u001b[39;00m \u001b[38;5;28;01mTrue\u001b[39;00m:\n\u001b[0;32m--> 295\u001b[0m     ready \u001b[38;5;241m=\u001b[39m \u001b[43mselector\u001b[49m\u001b[38;5;241;43m.\u001b[39;49m\u001b[43mselect\u001b[49m\u001b[43m(\u001b[49m\u001b[43mtimeout\u001b[49m\u001b[43m)\u001b[49m\n\u001b[1;32m    296\u001b[0m     \u001b[38;5;28;01mif\u001b[39;00m ready:\n\u001b[1;32m    297\u001b[0m         \u001b[38;5;28;01mreturn\u001b[39;00m \u001b[38;5;28mself\u001b[39m\u001b[38;5;241m.\u001b[39m_handle_request_noblock()\n",
      "File \u001b[0;32m~/.pyenv/versions/3.11.11/lib/python3.11/selectors.py:415\u001b[0m, in \u001b[0;36m_PollLikeSelector.select\u001b[0;34m(self, timeout)\u001b[0m\n\u001b[1;32m    413\u001b[0m ready \u001b[38;5;241m=\u001b[39m []\n\u001b[1;32m    414\u001b[0m \u001b[38;5;28;01mtry\u001b[39;00m:\n\u001b[0;32m--> 415\u001b[0m     fd_event_list \u001b[38;5;241m=\u001b[39m \u001b[38;5;28mself\u001b[39m\u001b[38;5;241m.\u001b[39m_selector\u001b[38;5;241m.\u001b[39mpoll(timeout)\n\u001b[1;32m    416\u001b[0m \u001b[38;5;28;01mexcept\u001b[39;00m \u001b[38;5;167;01mInterruptedError\u001b[39;00m:\n\u001b[1;32m    417\u001b[0m     \u001b[38;5;28;01mreturn\u001b[39;00m ready\n",
      "\u001b[0;31mKeyboardInterrupt\u001b[0m: "
     ]
    }
   ],
   "source": [
    "from google_auth_oauthlib.flow import InstalledAppFlow\n",
    "from google.auth.transport.requests import Request\n",
    "import os.path\n",
    "import pickle\n",
    "\n",
    "SCOPES = ['https://www.googleapis.com/auth/gmail.send']\n",
    "CLIENT_JSON_FNAME = \"client_secret_507912620340-2jqj2nmhvffrc99uct71mjgu1ssemhv8.apps.googleusercontent.com.json\"\n",
    "\n",
    "def main():\n",
    "    creds = None\n",
    "    if os.path.exists('token.pickle'):\n",
    "        with open('token.pickle', 'rb') as token:\n",
    "            creds = pickle.load(token)\n",
    "    if not creds or not creds.valid:\n",
    "        if creds and creds.expired and creds.refresh_token:\n",
    "            creds.refresh(Request())\n",
    "        else:\n",
    "            flow = InstalledAppFlow.from_client_secrets_file(\n",
    "                CLIENT_JSON_FNAME, SCOPES,\n",
    "                redirect_uri = \"http://localhost:8888\",\n",
    "            )\n",
    "                #'client_id.json', SCOPES)\n",
    "            creds = flow.run_local_server(port=0)\n",
    "        with open('token.pickle', 'wb') as token:\n",
    "            pickle.dump(creds, token)\n",
    "    return creds\n",
    "\n",
    "if __name__ == '__main__':\n",
    "    main()\n"
   ]
  },
  {
   "cell_type": "code",
   "execution_count": 28,
   "id": "01ce0999-9dac-4add-a7c6-c9e34a76b627",
   "metadata": {},
   "outputs": [],
   "source": [
    "import urllib.parse\n",
    "\n",
    "client_id = \"Y507912620340-m9r7mhmfrqm7jleiq4r0f7ilcrpifivv.apps.googleusercontent.com\"\n",
    "redirect_uri = \"http://localhost:8501\"\n",
    "scope = \"https://www.googleapis.com/auth/gmail.send\"\n",
    "\n",
    "auth_url = \"https://accounts.google.com/o/oauth2/auth\"\n",
    "params = {\n",
    "        \"response_type\": \"code\",\n",
    "    \"client_id\": client_id,\n",
    "    \"redirect_uri\": redirect_uri,\n",
    "    \"scope\": scope,\n",
    "    \"access_type\": \"offline\",\n",
    "}\n",
    "\n",
    "# Construct the full authorization URL\n",
    "authorization_url = f\"{auth_url}?{urllib.parse.urlencode(params)}\"\n"
   ]
  },
  {
   "cell_type": "code",
   "execution_count": 29,
   "id": "76edaf73-96be-4f57-9a6c-fd929bb91471",
   "metadata": {},
   "outputs": [
    {
     "data": {
      "text/plain": [
       "'https://accounts.google.com/o/oauth2/auth?response_type=code&client_id=Y507912620340-m9r7mhmfrqm7jleiq4r0f7ilcrpifivv.apps.googleusercontent.com&redirect_uri=http%3A%2F%2Flocalhost%3A8501&scope=https%3A%2F%2Fwww.googleapis.com%2Fauth%2Fgmail.send&access_type=offline'"
      ]
     },
     "execution_count": 29,
     "metadata": {},
     "output_type": "execute_result"
    }
   ],
   "source": [
    "authorization_url"
   ]
  },
  {
   "cell_type": "code",
   "execution_count": 30,
   "id": "a5860515-dd1f-4826-90b0-10c6bd0e0a99",
   "metadata": {},
   "outputs": [
    {
     "data": {
      "text/plain": [
       "'https://accounts.google.com/o/oauth2/auth?response_type=code&client_id=507912620340-m9r7mhmfrqm7jleiq4r0f7ilcrpifivv.apps.googleusercontent.com&redirect_uri=http%3A%2F%2Flocalhost%3A8051%2F&scope=https%3A%2F%2Fwww.googleapis.com%2Fauth%2Fgmail.send&state=UwCbNFtVgFrkd4ZKvBvCghVhfRkaP8&access_type=offline'"
      ]
     },
     "execution_count": 30,
     "metadata": {},
     "output_type": "execute_result"
    }
   ],
   "source": [
    "remote_uri = 'https://accounts.google.com/o/oauth2/auth?response_type=code&client_id=507912620340-m9r7mhmfrqm7jleiq4r0f7ilcrpifivv.apps.googleusercontent.com&redirect_uri=http%3A%2F%2Flocalhost%3A8051%2F&scope=https%3A%2F%2Fwww.googleapis.com%2Fauth%2Fgmail.send&state=UwCbNFtVgFrkd4ZKvBvCghVhfRkaP8&access_type=offline'\n",
    "remote_uri"
   ]
  },
  {
   "cell_type": "code",
   "execution_count": null,
   "id": "9bb48c32-5508-40c5-9cd7-721e777e6241",
   "metadata": {},
   "outputs": [],
   "source": []
  },
  {
   "cell_type": "code",
   "execution_count": 31,
   "id": "223ea91b-80bb-448f-8d5c-a3718876b940",
   "metadata": {},
   "outputs": [
    {
     "data": {
      "text/plain": [
       "'https://accounts.google.com/o/oauth2/auth?response_type=code&client_id=507912620340-m9r7mhmfrqm7jleiq4r0f7ilcrpifivv.apps.googleusercontent.com&redirect_uri=http://localhost:8051/&scope=https://www.googleapis.com/auth/gmail.send&state=UwCbNFtVgFrkd4ZKvBvCghVhfRkaP8&access_type=offline'"
      ]
     },
     "execution_count": 31,
     "metadata": {},
     "output_type": "execute_result"
    }
   ],
   "source": [
    "url_decoded_str = urllib.parse.unquote(remote_uri)\n",
    "url_decoded_str"
   ]
  },
  {
   "cell_type": "code",
   "execution_count": 25,
   "id": "7940f54a-5fdf-4f12-a3ab-c01c20292c8c",
   "metadata": {},
   "outputs": [
    {
     "data": {
      "text/plain": [
       "'https://accounts.google.com/o/oauth2/auth?client_id=Y507912620340-m9r7mhmfrqm7jleiq4r0f7ilcrpifivv.apps.googleusercontent.com&redirect_uri=http://localhost:8501&response_type=code&scope=https://www.googleapis.com/auth/gmail.send&access_type=offline'"
      ]
     },
     "execution_count": 25,
     "metadata": {},
     "output_type": "execute_result"
    }
   ],
   "source": [
    "urllib.parse.unquote(authorization_url)"
   ]
  },
  {
   "cell_type": "code",
   "execution_count": null,
   "id": "f3a6b270-cd6e-4ade-838c-3fc0e3ddd2e4",
   "metadata": {},
   "outputs": [],
   "source": []
  }
 ],
 "metadata": {
  "kernelspec": {
   "display_name": "Python 3.11 (api-talkie)",
   "language": "python",
   "name": "python3"
  },
  "language_info": {
   "codemirror_mode": {
    "name": "ipython",
    "version": 3
   },
   "file_extension": ".py",
   "mimetype": "text/x-python",
   "name": "python",
   "nbconvert_exporter": "python",
   "pygments_lexer": "ipython3",
   "version": "3.11.11"
  }
 },
 "nbformat": 4,
 "nbformat_minor": 5
}
