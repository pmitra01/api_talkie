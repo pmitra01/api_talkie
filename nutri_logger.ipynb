{
 "cells": [
  {
   "cell_type": "markdown",
   "id": "8025a01e-616b-4166-843b-2a227db8b83b",
   "metadata": {},
   "source": [
    "### imports and globals"
   ]
  },
  {
   "cell_type": "code",
   "execution_count": 18,
   "id": "003d989d-05a1-4d4a-afe8-5b5405701764",
   "metadata": {},
   "outputs": [],
   "source": [
    "import os\n",
    "from google import genai\n",
    "from google.genai import types\n",
    "from dotenv import load_dotenv\n",
    "import pandas as pd"
   ]
  },
  {
   "cell_type": "code",
   "execution_count": 22,
   "id": "80a39b95-6e81-4568-9481-acf14b115f54",
   "metadata": {},
   "outputs": [],
   "source": [
    "from google.genai.types import Tool, GenerateContentConfig, GoogleSearch\n",
    "from langchain_google_genai import ChatGoogleGenerativeAI, GoogleGenerativeAI\n",
    "\n",
    "from enum import Enum, auto\n",
    "from strenum import LowercaseStrEnum\n",
    "\n",
    "from langchain.prompts import PromptTemplate\n",
    "from langchain.output_parsers import PandasDataFrameOutputParser\n",
    "\n",
    "#from langchain_google_genai.chat_models import ChatGoogleGenerativeAI\n"
   ]
  },
  {
   "cell_type": "code",
   "execution_count": 2,
   "id": "142d20d5-2256-4e27-a98b-79fd185cec55",
   "metadata": {},
   "outputs": [
    {
     "data": {
      "text/plain": [
       "True"
      ]
     },
     "execution_count": 2,
     "metadata": {},
     "output_type": "execute_result"
    }
   ],
   "source": [
    "load_dotenv()"
   ]
  },
  {
   "cell_type": "code",
   "execution_count": 3,
   "id": "986fc4a3-9ecf-40cf-979c-8dcb7cbafab5",
   "metadata": {},
   "outputs": [],
   "source": [
    "GOOGLE_API_KEY = os.environ[\"GOOGLE_API_KEY\"]\n",
    "OPEN_AI_KEY = os.environ[\"OPEN_AI_KEY\"]"
   ]
  },
  {
   "cell_type": "markdown",
   "id": "f9da3989-09a6-4d36-9f0e-988df85152fa",
   "metadata": {},
   "source": [
    "### prepare promt template\n"
   ]
  },
  {
   "cell_type": "code",
   "execution_count": 23,
   "id": "7357264e-b8fc-4126-9d87-df058b82d5fb",
   "metadata": {},
   "outputs": [],
   "source": [
    "# Define your desired Pandas DataFrame.\n",
    "df = pd.DataFrame(\n",
    "    columns = ['Meal ID',\n",
    "               'Date',\n",
    "               'Time',\n",
    "               'Meal component',\n",
    "               'Quantity per serving',\n",
    "               'Carbohydrates',\n",
    "               'Protein',\n",
    "               'Fat',\n",
    "               'Calories'],\n",
    "    data = [['1',\n",
    "            '2025-02-25',\n",
    "            '12:00',\n",
    "            'Brown Bread (2 slices)',\n",
    "            '2 slices',\n",
    "            '20',\n",
    "            '5',\n",
    "            '5',\n",
    "            '200']]\n",
    ")\n",
    "\n",
    "parser = PandasDataFrameOutputParser(dataframe=df)"
   ]
  },
  {
   "cell_type": "code",
   "execution_count": 75,
   "id": "b8f6ed6c-0d01-4fc1-81c3-517459ee3ce4",
   "metadata": {},
   "outputs": [],
   "source": [
    "nutri_prompt_template = (\"You are a search assistant. The human user will give you a description of their meals, portion size and the time they consumed it. Your task is to analyse the meals, log the date and time of each meal,\"\n",
    "    \"and then decompose the meal and its ingredients into their nutrient content. Use google search tool to get nutrient data from https://www.fatsecret.com/calories-nutrition/ if possible. MAke sensible guesses about portions where user does not provide\"\n",
    "    \"Output the amount of carbohydrates, fats, proteins in grams, and calories. Also highlight any other key nutrients such as vitamins and minerals present in that portion\"\n",
    "    \"Please give a unique id to each meal, that is repeated across its components. Answer with the nutritional breakdown of the in a tabular format (and nothing else) with columns for: \"\n",
    "    \"- Meal ID\"\n",
    "    \"- Date\"\n",
    "    \"- Time\"\n",
    "    \"- Meal component\"\n",
    "    \"- Quantity per serving\"\n",
    "    \"- Carbohydrates\"\n",
    "    \"- Protein\"\n",
    "    \"- Fat\"\n",
    "    \"- Calories\"\n",
    "    \"Only answer with the table, and nothing else.\")"
   ]
  },
  {
   "cell_type": "code",
   "execution_count": 76,
   "id": "2765dbea-6d0e-4703-af26-9c8390d6275d",
   "metadata": {},
   "outputs": [],
   "source": [
    "# Set up the prompt.\n",
    "prompt_template = PromptTemplate(\n",
    "    template = nutri_prompt_template + \"\\n{format_instructions}\\n{meal_description}\\n\",\n",
    "    input_variables=[\"meal_description\"],\n",
    "    partial_variables={\"format_instructions\": parser.get_format_instructions()},\n",
    ")"
   ]
  },
  {
   "cell_type": "code",
   "execution_count": 77,
   "id": "a5b7f6e5-9e18-4300-835b-4243af1290ba",
   "metadata": {},
   "outputs": [],
   "source": [
    "meal_description = (\"Today is 2025-02-25. At noon I ate 1 sandwich made from 2 slices brown bread, tomato,\" \n",
    "              \"1 slice of cheese and cucumber. At dinner 9pm, I ate 2 rotis with 1 bowl (100g) of chicken curry and 1 bowl of raita.\")\n",
    "\n",
    "\n",
    "# Generate the prompt\n",
    "filled_prompt = prompt_template.invoke({\"meal_description\": meal_description})\n"
   ]
  },
  {
   "cell_type": "markdown",
   "id": "24dc6af5-da94-4246-a1bd-65b511d48802",
   "metadata": {},
   "source": [
    "### access GenAI chat API"
   ]
  },
  {
   "cell_type": "code",
   "execution_count": 78,
   "id": "be1ef6ce-c16a-4d89-aff4-b78c00327426",
   "metadata": {},
   "outputs": [],
   "source": [
    "class MODEL_ID(LowercaseStrEnum):\n",
    "    GEMINI_1_5_FLASH_8B = \"gemini-1.5-flash-8b\"\n",
    "    GEMINI_2_0_FLASH = \"gemini-2.0-flash\""
   ]
  },
  {
   "cell_type": "code",
   "execution_count": 79,
   "id": "2fe1c44d-516c-4941-92a7-45d61fcb4d1f",
   "metadata": {
    "scrolled": true
   },
   "outputs": [
    {
     "name": "stdout",
     "output_type": "stream",
     "text": [
      "```\n",
      "Meal ID: Date: Time: Meal component: Quantity per serving: Carbohydrates: Protein: Fat: Calories\n",
      "1:2025-02-25:12:00:Brown Bread:2 slices:24:4:2:130\n",
      "1:2025-02-25:12:00:Tomato:50g:2:1:0:10\n",
      "1:2025-02-25:12:00:Cheese:1 slice:1:7:9:115\n",
      "1:2025-02-25:12:00:Cucumber:50g:2:0:0:8\n",
      "2:2025-02-25:21:00:Roti:2:62:8:3:310\n",
      "2:2025-02-25:21:00:Chicken Curry:100g:8:25:10:220\n",
      "2:2025-02-25:21:00:Raita:1 bowl:10:3:5:90\n",
      "```\n"
     ]
    }
   ],
   "source": [
    "\n",
    "# Define custom GenerateContentConfig parameters\n",
    "client_options = {\n",
    "    \"temperature\": 0.7,  # Controls randomness\n",
    "    \"max_output_tokens\": 100,  # Limit on output tokens\n",
    "    \"stop_sequences\": [\"\\n\"],   # Optional stop sequences\n",
    "}\n",
    "\n",
    "\n",
    "# Initialize ChatGoogleGenerativeAI with client options\n",
    "llm = ChatGoogleGenerativeAI(\n",
    "    model = MODEL_ID.GEMINI_2_0_FLASH,\n",
    "    google_api_key = GOOGLE_API_KEY,\n",
    "    max_output_tokens = 500,\n",
    "    temperature=0,\n",
    "        top_p=0.95,\n",
    "        top_k=20,\n",
    "  config=GenerateContentConfig(\n",
    "        tools=[google_search_tool],\n",
    "        response_modalities=[\"TEXT\"],\n",
    "    ))\n",
    "   #client_options =  {'generate_content_config': {'max_output_tokens': 100}})\n",
    "\n",
    "# Invoke the model with a prompt\n",
    "response = llm.invoke(filled_prompt.text )\n",
    "print(response.content)\n"
   ]
  },
  {
   "cell_type": "code",
   "execution_count": 61,
   "id": "03047053-8c89-45c2-883f-122f38520490",
   "metadata": {},
   "outputs": [],
   "source": [
    "REPLACEMENTS = [\"```\\n\", \"\\n```\", \"```\"]\n",
    "response_text = response.text()\n",
    "for replacement in REPLACEMENTS:\n",
    "    response_text = response_text.replace(replacement, \"\")"
   ]
  },
  {
   "cell_type": "code",
   "execution_count": 63,
   "id": "088ee61f-cb32-4e9d-80fb-ba5124c7dd26",
   "metadata": {
    "scrolled": true
   },
   "outputs": [
    {
     "ename": "OutputParserException",
     "evalue": "Request 'Meal ID,Date,Time,Meal component,Quantity per serving,Carbohydrates,Protein,Fat,Calories\n1,2025-02-25,12:00,Brown Bread,2 slices,24,4,2,130\n1,2025-02-25,12:00,Tomato,50g,2,0.5,0.1,10\n1,2025-02-25,12:00,Cheese,25g,1,5,7,90\n1,2025-02-25,12:00,Cucumber,50g,2,0.5,0.1,8\n2,2025-02-25,21:00,Roti,2,60,8,2,320\n2,2025-02-25,21:00,Chicken Curry,100g,8,25,15,275\n2,2025-02-25,21:00,Raita,1 bowl,10,2,5,90' is not correctly formatted.                     Please refer to the format instructions.\nFor troubleshooting, visit: https://python.langchain.com/docs/troubleshooting/errors/OUTPUT_PARSING_FAILURE ",
     "output_type": "error",
     "traceback": [
      "\u001b[0;31m---------------------------------------------------------------------------\u001b[0m",
      "\u001b[0;31mOutputParserException\u001b[0m                     Traceback (most recent call last)",
      "Cell \u001b[0;32mIn[63], line 3\u001b[0m\n\u001b[1;32m      1\u001b[0m \u001b[38;5;66;03m#lines = response_text.split('\\n')\u001b[39;00m\n\u001b[1;32m      2\u001b[0m \u001b[38;5;66;03m#parsed_data = [line.split('|') for line in lines[:-1]]\u001b[39;00m\n\u001b[0;32m----> 3\u001b[0m \u001b[43mparser\u001b[49m\u001b[38;5;241;43m.\u001b[39;49m\u001b[43mparse\u001b[49m\u001b[43m(\u001b[49m\u001b[43mresponse_text\u001b[49m\u001b[43m)\u001b[49m\n",
      "File \u001b[0;32m~/PycharmProjects/api_talkie/.venv/lib/python3.11/site-packages/langchain/output_parsers/pandas_dataframe.py:85\u001b[0m, in \u001b[0;36mPandasDataFrameOutputParser.parse\u001b[0;34m(self, request)\u001b[0m\n\u001b[1;32m     83\u001b[0m splitted_request \u001b[38;5;241m=\u001b[39m request\u001b[38;5;241m.\u001b[39mstrip()\u001b[38;5;241m.\u001b[39msplit(\u001b[38;5;124m\"\u001b[39m\u001b[38;5;124m:\u001b[39m\u001b[38;5;124m\"\u001b[39m)\n\u001b[1;32m     84\u001b[0m \u001b[38;5;28;01mif\u001b[39;00m \u001b[38;5;28mlen\u001b[39m(splitted_request) \u001b[38;5;241m!=\u001b[39m \u001b[38;5;241m2\u001b[39m:\n\u001b[0;32m---> 85\u001b[0m     \u001b[38;5;28;01mraise\u001b[39;00m OutputParserException(\n\u001b[1;32m     86\u001b[0m         \u001b[38;5;124mf\u001b[39m\u001b[38;5;124m\"\u001b[39m\u001b[38;5;124mRequest \u001b[39m\u001b[38;5;124m'\u001b[39m\u001b[38;5;132;01m{\u001b[39;00mrequest\u001b[38;5;132;01m}\u001b[39;00m\u001b[38;5;124m'\u001b[39m\u001b[38;5;124m is not correctly formatted. \u001b[39m\u001b[38;5;130;01m\\\u001b[39;00m\n\u001b[1;32m     87\u001b[0m \u001b[38;5;124m            Please refer to the format instructions.\u001b[39m\u001b[38;5;124m\"\u001b[39m\n\u001b[1;32m     88\u001b[0m     )\n\u001b[1;32m     89\u001b[0m result \u001b[38;5;241m=\u001b[39m {}\n\u001b[1;32m     90\u001b[0m \u001b[38;5;28;01mtry\u001b[39;00m:\n",
      "\u001b[0;31mOutputParserException\u001b[0m: Request 'Meal ID,Date,Time,Meal component,Quantity per serving,Carbohydrates,Protein,Fat,Calories\n1,2025-02-25,12:00,Brown Bread,2 slices,24,4,2,130\n1,2025-02-25,12:00,Tomato,50g,2,0.5,0.1,10\n1,2025-02-25,12:00,Cheese,25g,1,5,7,90\n1,2025-02-25,12:00,Cucumber,50g,2,0.5,0.1,8\n2,2025-02-25,21:00,Roti,2,60,8,2,320\n2,2025-02-25,21:00,Chicken Curry,100g,8,25,15,275\n2,2025-02-25,21:00,Raita,1 bowl,10,2,5,90' is not correctly formatted.                     Please refer to the format instructions.\nFor troubleshooting, visit: https://python.langchain.com/docs/troubleshooting/errors/OUTPUT_PARSING_FAILURE "
     ]
    }
   ],
   "source": [
    "#lines = response_text.split('\\n')\n",
    "#parsed_data = [line.split('|') for line in lines[:-1]]\n",
    "parser.parse(response_text)"
   ]
  },
  {
   "cell_type": "code",
   "execution_count": 64,
   "id": "6276aa3c-1671-4fd1-b432-72821b0d68b3",
   "metadata": {},
   "outputs": [
    {
     "data": {
      "text/html": [
       "<div>\n",
       "<style scoped>\n",
       "    .dataframe tbody tr th:only-of-type {\n",
       "        vertical-align: middle;\n",
       "    }\n",
       "\n",
       "    .dataframe tbody tr th {\n",
       "        vertical-align: top;\n",
       "    }\n",
       "\n",
       "    .dataframe thead th {\n",
       "        text-align: right;\n",
       "    }\n",
       "</style>\n",
       "<table border=\"1\" class=\"dataframe\">\n",
       "  <thead>\n",
       "    <tr style=\"text-align: right;\">\n",
       "      <th></th>\n",
       "      <th>Meal ID</th>\n",
       "      <th>Date</th>\n",
       "      <th>Time</th>\n",
       "      <th>Meal component</th>\n",
       "      <th>Quantity per serving</th>\n",
       "      <th>Carbohydrates</th>\n",
       "      <th>Protein</th>\n",
       "      <th>Fat</th>\n",
       "      <th>Calories</th>\n",
       "    </tr>\n",
       "  </thead>\n",
       "  <tbody>\n",
       "    <tr>\n",
       "      <th>0</th>\n",
       "      <td>1</td>\n",
       "      <td>2025-02-25</td>\n",
       "      <td>12:00</td>\n",
       "      <td>Brown Bread</td>\n",
       "      <td>2 slices</td>\n",
       "      <td>24</td>\n",
       "      <td>4.0</td>\n",
       "      <td>2.0</td>\n",
       "      <td>130</td>\n",
       "    </tr>\n",
       "    <tr>\n",
       "      <th>1</th>\n",
       "      <td>1</td>\n",
       "      <td>2025-02-25</td>\n",
       "      <td>12:00</td>\n",
       "      <td>Tomato</td>\n",
       "      <td>50g</td>\n",
       "      <td>2</td>\n",
       "      <td>0.5</td>\n",
       "      <td>0.1</td>\n",
       "      <td>10</td>\n",
       "    </tr>\n",
       "    <tr>\n",
       "      <th>2</th>\n",
       "      <td>1</td>\n",
       "      <td>2025-02-25</td>\n",
       "      <td>12:00</td>\n",
       "      <td>Cheese</td>\n",
       "      <td>25g</td>\n",
       "      <td>1</td>\n",
       "      <td>5.0</td>\n",
       "      <td>7.0</td>\n",
       "      <td>90</td>\n",
       "    </tr>\n",
       "    <tr>\n",
       "      <th>3</th>\n",
       "      <td>1</td>\n",
       "      <td>2025-02-25</td>\n",
       "      <td>12:00</td>\n",
       "      <td>Cucumber</td>\n",
       "      <td>50g</td>\n",
       "      <td>2</td>\n",
       "      <td>0.5</td>\n",
       "      <td>0.1</td>\n",
       "      <td>8</td>\n",
       "    </tr>\n",
       "    <tr>\n",
       "      <th>4</th>\n",
       "      <td>2</td>\n",
       "      <td>2025-02-25</td>\n",
       "      <td>21:00</td>\n",
       "      <td>Roti</td>\n",
       "      <td>2</td>\n",
       "      <td>60</td>\n",
       "      <td>8.0</td>\n",
       "      <td>2.0</td>\n",
       "      <td>320</td>\n",
       "    </tr>\n",
       "    <tr>\n",
       "      <th>5</th>\n",
       "      <td>2</td>\n",
       "      <td>2025-02-25</td>\n",
       "      <td>21:00</td>\n",
       "      <td>Chicken Curry</td>\n",
       "      <td>100g</td>\n",
       "      <td>8</td>\n",
       "      <td>25.0</td>\n",
       "      <td>15.0</td>\n",
       "      <td>275</td>\n",
       "    </tr>\n",
       "    <tr>\n",
       "      <th>6</th>\n",
       "      <td>2</td>\n",
       "      <td>2025-02-25</td>\n",
       "      <td>21:00</td>\n",
       "      <td>Raita</td>\n",
       "      <td>1 bowl</td>\n",
       "      <td>10</td>\n",
       "      <td>2.0</td>\n",
       "      <td>5.0</td>\n",
       "      <td>90</td>\n",
       "    </tr>\n",
       "  </tbody>\n",
       "</table>\n",
       "</div>"
      ],
      "text/plain": [
       "   Meal ID        Date   Time Meal component Quantity per serving  \\\n",
       "0        1  2025-02-25  12:00    Brown Bread             2 slices   \n",
       "1        1  2025-02-25  12:00         Tomato                  50g   \n",
       "2        1  2025-02-25  12:00         Cheese                  25g   \n",
       "3        1  2025-02-25  12:00       Cucumber                  50g   \n",
       "4        2  2025-02-25  21:00           Roti                    2   \n",
       "5        2  2025-02-25  21:00  Chicken Curry                 100g   \n",
       "6        2  2025-02-25  21:00          Raita               1 bowl   \n",
       "\n",
       "   Carbohydrates  Protein   Fat  Calories  \n",
       "0             24      4.0   2.0       130  \n",
       "1              2      0.5   0.1        10  \n",
       "2              1      5.0   7.0        90  \n",
       "3              2      0.5   0.1         8  \n",
       "4             60      8.0   2.0       320  \n",
       "5              8     25.0  15.0       275  \n",
       "6             10      2.0   5.0        90  "
      ]
     },
     "execution_count": 64,
     "metadata": {},
     "output_type": "execute_result"
    }
   ],
   "source": [
    "from io import StringIO\n",
    "\n",
    "csv_data = StringIO(response_text)\n",
    "pd.read_csv(csv_data)"
   ]
  },
  {
   "cell_type": "code",
   "execution_count": null,
   "id": "229fec9d-aaee-44a2-9093-fdcd9a30ac3e",
   "metadata": {},
   "outputs": [],
   "source": []
  },
  {
   "cell_type": "markdown",
   "id": "482c1539-1f75-4dff-8c6e-f32d4ba35d69",
   "metadata": {},
   "source": [
    "### try google gemini directly"
   ]
  },
  {
   "cell_type": "code",
   "execution_count": 80,
   "id": "2bbb9d89-2aa4-4b98-82a5-c5ce80e9c960",
   "metadata": {},
   "outputs": [],
   "source": [
    "client = genai.Client(api_key=GOOGLE_API_KEY)\n",
    "\n",
    "google_search_tool = Tool(\n",
    "    google_search = GoogleSearch()\n",
    ")\n",
    "\n",
    "response_direct = client.models.generate_content(\n",
    "    model=MODEL_ID.GEMINI_2_0_FLASH,\n",
    "    contents=filled_prompt, \n",
    "    config=types.GenerateContentConfig(\n",
    "        tools=[google_search_tool],\n",
    "        response_modalities=[\"TEXT\"],\n",
    "    )\n",
    ")\n"
   ]
  },
  {
   "cell_type": "code",
   "execution_count": 89,
   "id": "5eaa8750-a595-4a55-bed8-c8963ecc36f5",
   "metadata": {},
   "outputs": [
    {
     "name": "stdout",
     "output_type": "stream",
     "text": [
      "| Meal ID | Date       | Time  | Meal component | Quantity per serving | Carbohydrates (g) | Protein (g) | Fat (g) | Calories |\n",
      "| ------- | ---------- | ----- | --------------- | -------------------- | ----------------- | ----------- | ------- | -------- |\n",
      "| 1       | 2025-02-25 | 12:00 | Brown Bread    | 2 slices             | 28                | 8           | 2       | 160      |\n",
      "| 1       | 2025-02-25 | 12:00 | Tomato         | 50g                | 2                 | 0.5         | 0.1     | 10       |\n",
      "| 1       | 2025-02-25 | 12:00 | Cheese         | 1 slice              | 1                 | 6           | 8       | 100      |\n",
      "| 1       | 2025-02-25 | 12:00 | Cucumber       | 50g                | 2                 | 0.4         | 0.1     | 8        |\n",
      "| 2       | 2025-02-25 | 21:00 | Roti           | 2                    | 60                | 8           | 2       | 320      |\n",
      "| 2       | 2025-02-25 | 21:00 | Chicken Curry  | 100g               | 8                 | 25          | 15      | 280      |\n",
      "| 2       | 2025-02-25 | 21:00 | Raita          | 1 bowl (100g)        | 5                 | 3           | 4       | 70       |\n",
      "\n"
     ]
    }
   ],
   "source": [
    "print(response_direct_text)"
   ]
  },
  {
   "cell_type": "code",
   "execution_count": 87,
   "id": "d69d25bc-bf78-4fb5-a161-b3234ea1a804",
   "metadata": {},
   "outputs": [],
   "source": [
    "REPLACEMENTS = [\"```\\n\", \"\\n```\", \"```\", \"Analysis:\\n\\n\"]\n",
    "response_direct_text = response_direct.text\n",
    "for replacement in REPLACEMENTS:\n",
    "    response_direct_text = response_direct_text.replace(replacement, \"\")"
   ]
  },
  {
   "cell_type": "code",
   "execution_count": 88,
   "id": "bcc28358-efc3-49de-8e10-88d26b126413",
   "metadata": {},
   "outputs": [
    {
     "data": {
      "text/html": [
       "<div>\n",
       "<style scoped>\n",
       "    .dataframe tbody tr th:only-of-type {\n",
       "        vertical-align: middle;\n",
       "    }\n",
       "\n",
       "    .dataframe tbody tr th {\n",
       "        vertical-align: top;\n",
       "    }\n",
       "\n",
       "    .dataframe thead th {\n",
       "        text-align: right;\n",
       "    }\n",
       "</style>\n",
       "<table border=\"1\" class=\"dataframe\">\n",
       "  <thead>\n",
       "    <tr style=\"text-align: right;\">\n",
       "      <th></th>\n",
       "      <th>| Meal ID | Date       | Time  | Meal component | Quantity per serving | Carbohydrates (g) | Protein (g) | Fat (g) | Calories |</th>\n",
       "    </tr>\n",
       "  </thead>\n",
       "  <tbody>\n",
       "    <tr>\n",
       "      <th>0</th>\n",
       "      <td>| ------- | ---------- | ----- | -------------...</td>\n",
       "    </tr>\n",
       "    <tr>\n",
       "      <th>1</th>\n",
       "      <td>| 1       | 2025-02-25 | 12:00 | Brown Bread  ...</td>\n",
       "    </tr>\n",
       "    <tr>\n",
       "      <th>2</th>\n",
       "      <td>| 1       | 2025-02-25 | 12:00 | Tomato       ...</td>\n",
       "    </tr>\n",
       "    <tr>\n",
       "      <th>3</th>\n",
       "      <td>| 1       | 2025-02-25 | 12:00 | Cheese       ...</td>\n",
       "    </tr>\n",
       "    <tr>\n",
       "      <th>4</th>\n",
       "      <td>| 1       | 2025-02-25 | 12:00 | Cucumber     ...</td>\n",
       "    </tr>\n",
       "    <tr>\n",
       "      <th>5</th>\n",
       "      <td>| 2       | 2025-02-25 | 21:00 | Roti         ...</td>\n",
       "    </tr>\n",
       "    <tr>\n",
       "      <th>6</th>\n",
       "      <td>| 2       | 2025-02-25 | 21:00 | Chicken Curry...</td>\n",
       "    </tr>\n",
       "    <tr>\n",
       "      <th>7</th>\n",
       "      <td>| 2       | 2025-02-25 | 21:00 | Raita        ...</td>\n",
       "    </tr>\n",
       "  </tbody>\n",
       "</table>\n",
       "</div>"
      ],
      "text/plain": [
       "  | Meal ID | Date       | Time  | Meal component | Quantity per serving | Carbohydrates (g) | Protein (g) | Fat (g) | Calories |\n",
       "0  | ------- | ---------- | ----- | -------------...                                                                             \n",
       "1  | 1       | 2025-02-25 | 12:00 | Brown Bread  ...                                                                             \n",
       "2  | 1       | 2025-02-25 | 12:00 | Tomato       ...                                                                             \n",
       "3  | 1       | 2025-02-25 | 12:00 | Cheese       ...                                                                             \n",
       "4  | 1       | 2025-02-25 | 12:00 | Cucumber     ...                                                                             \n",
       "5  | 2       | 2025-02-25 | 21:00 | Roti         ...                                                                             \n",
       "6  | 2       | 2025-02-25 | 21:00 | Chicken Curry...                                                                             \n",
       "7  | 2       | 2025-02-25 | 21:00 | Raita        ...                                                                             "
      ]
     },
     "execution_count": 88,
     "metadata": {},
     "output_type": "execute_result"
    }
   ],
   "source": [
    "from io import StringIO\n",
    "\n",
    "csv_data = StringIO(response_direct_text)\n",
    "pd.read_csv(csv_data)"
   ]
  },
  {
   "cell_type": "markdown",
   "id": "f381d573-bb2f-4ae2-8c1c-efbb804352e3",
   "metadata": {},
   "source": [
    "## agent"
   ]
  },
  {
   "cell_type": "code",
   "execution_count": null,
   "id": "9dacf552-0c4a-4744-aafa-36096ddf012b",
   "metadata": {},
   "outputs": [],
   "source": [
    "from langchain.agents import initialize_agent, AgentType\n",
    "\n",
    "# Combine LLM and tools into an agent\n",
    "tools = [search_tool]\n",
    "agent = initialize_agent(\n",
    "    tools=tools,\n",
    "    llm=llm,\n",
    "    agent=AgentType.ZERO_SHOT_REACT_DESCRIPTION,\n",
    "    verbose=True,\n",
    ")\n",
    "\n",
    "# Example query that requires search\n",
    "query = \"What are the latest advancements in AI research? Please answer in not more than 5 lines\"\n",
    "\n",
    "response = agent.run(query)\n",
    "\n",
    "print(response)\n"
   ]
  },
  {
   "cell_type": "code",
   "execution_count": null,
   "id": "2c83fbd9-3ed3-4b85-abec-7d54a51019e0",
   "metadata": {},
   "outputs": [],
   "source": []
  },
  {
   "cell_type": "code",
   "execution_count": null,
   "id": "a504c5ec-9fef-4cd0-8817-755572346a7a",
   "metadata": {},
   "outputs": [],
   "source": []
  },
  {
   "cell_type": "code",
   "execution_count": null,
   "id": "6549f242-3668-4fd2-8f00-af7830cbdde4",
   "metadata": {},
   "outputs": [],
   "source": []
  },
  {
   "cell_type": "code",
   "execution_count": null,
   "id": "c9ea2c85-58c6-4b60-b7c5-98027ece9421",
   "metadata": {},
   "outputs": [],
   "source": []
  },
  {
   "cell_type": "markdown",
   "id": "95fff60f-d3d4-4316-ba70-ff67febdc1da",
   "metadata": {},
   "source": [
    "### try formatting into a dataframe"
   ]
  },
  {
   "cell_type": "code",
   "execution_count": 113,
   "id": "e2221f8b-91e7-4f0a-b0a6-84816d050b95",
   "metadata": {},
   "outputs": [],
   "source": [
    "import pandas as pd\n",
    "from langchain.output_parsers import PandasDataFrameOutputParser\n",
    "from langchain_core.prompts import PromptTemplate\n"
   ]
  },
  {
   "cell_type": "code",
   "execution_count": null,
   "id": "30872e3b-f54f-4d98-baff-9926c0abfce2",
   "metadata": {
    "jupyter": {
     "source_hidden": true
    }
   },
   "outputs": [],
   "source": [
    "from langchain_google_genai import ChatGoogleGenerativeAI\n",
    "\n",
    "llm = ChatGoogleGenerativeAI(\n",
    "    model = MODEL_ID.GEMINI_1_5_FLASH_8B,\n",
    "    temperature=0,\n",
    "    max_tokens=None,\n",
    "    timeout=None,\n",
    "    max_retries=2,\n",
    "    # other params...\n",
    ")"
   ]
  },
  {
   "cell_type": "code",
   "execution_count": 160,
   "id": "0e88c0c6-def8-47a6-b863-8841d1649adb",
   "metadata": {},
   "outputs": [],
   "source": [
    "# Define your desired Pandas DataFrame.\n",
    "df = pd.DataFrame(\n",
    "    columns = ['Meal ID',\n",
    "               'Date',\n",
    "               'Time',\n",
    "               'Meal component',\n",
    "               'Quantity per serving',\n",
    "               'Carbohydrates',\n",
    "               'Protein',\n",
    "               'Fat',\n",
    "               'Calories'],\n",
    "    data = [['1',\n",
    "            '2025-02-25',\n",
    "            '12:00',\n",
    "            'Brown Bread (2 slices)',\n",
    "            '2 slices',\n",
    "            '20',\n",
    "            '5',\n",
    "            '5',\n",
    "            '200']]\n",
    ")\n",
    "\n",
    "# Set up a parser + inject instructions into the prompt template.\n",
    "from langchain.output_parsers import PandasDataFrameOutputParser\n",
    "\n",
    "parser = PandasDataFrameOutputParser(dataframe=df)"
   ]
  },
  {
   "cell_type": "code",
   "execution_count": null,
   "id": "5732a89d-a39d-45e8-b592-fe65fc13c7ff",
   "metadata": {},
   "outputs": [],
   "source": []
  },
  {
   "cell_type": "markdown",
   "id": "a26c8c8a-83d9-4c29-9cb7-cccbd6a898ca",
   "metadata": {
    "jp-MarkdownHeadingCollapsed": true
   },
   "source": [
    "### openai trial"
   ]
  },
  {
   "cell_type": "code",
   "execution_count": 169,
   "id": "ae7df2eb-4326-46be-b7df-4eafd84dd2d5",
   "metadata": {},
   "outputs": [
    {
     "ename": "ModuleNotFoundError",
     "evalue": "No module named 'langchain_openai'",
     "output_type": "error",
     "traceback": [
      "\u001b[0;31m---------------------------------------------------------------------------\u001b[0m",
      "\u001b[0;31mModuleNotFoundError\u001b[0m                       Traceback (most recent call last)",
      "Cell \u001b[0;32mIn[169], line 7\u001b[0m\n\u001b[1;32m      5\u001b[0m \u001b[38;5;28;01mfrom\u001b[39;00m\u001b[38;5;250m \u001b[39m\u001b[38;5;21;01mlangchain\u001b[39;00m\u001b[38;5;21;01m.\u001b[39;00m\u001b[38;5;21;01moutput_parsers\u001b[39;00m\u001b[38;5;250m \u001b[39m\u001b[38;5;28;01mimport\u001b[39;00m PandasDataFrameOutputParser\n\u001b[1;32m      6\u001b[0m \u001b[38;5;28;01mfrom\u001b[39;00m\u001b[38;5;250m \u001b[39m\u001b[38;5;21;01mlangchain_core\u001b[39;00m\u001b[38;5;21;01m.\u001b[39;00m\u001b[38;5;21;01mprompts\u001b[39;00m\u001b[38;5;250m \u001b[39m\u001b[38;5;28;01mimport\u001b[39;00m PromptTemplate\n\u001b[0;32m----> 7\u001b[0m \u001b[38;5;28;01mfrom\u001b[39;00m\u001b[38;5;250m \u001b[39m\u001b[38;5;21;01mlangchain_openai\u001b[39;00m\u001b[38;5;250m \u001b[39m\u001b[38;5;28;01mimport\u001b[39;00m ChatOpenAI\n",
      "\u001b[0;31mModuleNotFoundError\u001b[0m: No module named 'langchain_openai'"
     ]
    }
   ],
   "source": [
    "import pprint\n",
    "from typing import Any, Dict\n",
    "\n",
    "import pandas as pd\n",
    "from langchain.output_parsers import PandasDataFrameOutputParser\n",
    "from langchain_core.prompts import PromptTemplate\n",
    "from langchain_openai import ChatOpenAI"
   ]
  },
  {
   "cell_type": "code",
   "execution_count": null,
   "id": "41ea986f-2d17-48fa-8664-7430d0157c16",
   "metadata": {},
   "outputs": [],
   "source": [
    "model = ChatOpenAI(temperature=0)"
   ]
  }
 ],
 "metadata": {
  "kernelspec": {
   "display_name": "Python 3.11 (api-talkie)",
   "language": "python",
   "name": "python3"
  },
  "language_info": {
   "codemirror_mode": {
    "name": "ipython",
    "version": 3
   },
   "file_extension": ".py",
   "mimetype": "text/x-python",
   "name": "python",
   "nbconvert_exporter": "python",
   "pygments_lexer": "ipython3",
   "version": "3.11.11"
  }
 },
 "nbformat": 4,
 "nbformat_minor": 5
}
