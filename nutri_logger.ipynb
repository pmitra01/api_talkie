{
 "cells": [
  {
   "metadata": {},
   "cell_type": "markdown",
   "source": "### imports and globals",
   "id": "616e3d4be86016cf"
  },
  {
   "metadata": {},
   "cell_type": "code",
   "outputs": [],
   "execution_count": null,
   "source": [
    "import os\n",
    "from google import genai\n",
    "from google.genai import types\n",
    "from dotenv import load_dotenv\n",
    "import pandas as pd"
   ],
   "id": "9989f8bee745dfc"
  },
  {
   "metadata": {},
   "cell_type": "code",
   "outputs": [],
   "execution_count": null,
   "source": [
    "from google.genai.types import Tool, GenerateContentConfig, GoogleSearch\n",
    "from langchain_google_genai import ChatGoogleGenerativeAI, GoogleGenerativeAI\n",
    "\n",
    "from enum import Enum, auto\n",
    "from strenum import LowercaseStrEnum\n",
    "\n",
    "from langchain.prompts import PromptTemplate\n",
    "from langchain.output_parsers import PandasDataFrameOutputParser\n",
    "from langchain_core.output_parsers import JsonOutputParser\n",
    "\n",
    "\n",
    "# rfrom langchain_google_genai.chat_models import ChatGoogleGenerativeAI\n"
   ],
   "id": "d5732461b3e20317"
  },
  {
   "metadata": {},
   "cell_type": "code",
   "outputs": [],
   "execution_count": null,
   "source": "load_dotenv()",
   "id": "11d62e124d0b4eca"
  },
  {
   "metadata": {},
   "cell_type": "code",
   "outputs": [],
   "execution_count": null,
   "source": [
    "GOOGLE_API_KEY = os.environ[\"GOOGLE_API_KEY\"]\n",
    "OPEN_AI_KEY = os.environ[\"OPEN_AI_KEY\"]"
   ],
   "id": "37591cc89c7b0b29"
  },
  {
   "metadata": {},
   "cell_type": "markdown",
   "source": "### prepare promt template\n",
   "id": "510f686b3ff68067"
  },
  {
   "metadata": {},
   "cell_type": "code",
   "outputs": [],
   "execution_count": null,
   "source": [
    "# Define your desired Pandas DataFrame.\n",
    "df = pd.DataFrame(\n",
    "    columns = ['Meal ID',\n",
    "               'Date',\n",
    "               'Time',\n",
    "               'Meal component',\n",
    "               'Quantity per serving',\n",
    "               'Carbohydrates',\n",
    "               'Protein',\n",
    "               'Fat',\n",
    "               'Calories'],\n",
    "    data = [['1',\n",
    "            '2025-02-25',\n",
    "            '12:00',\n",
    "            'Brown Bread (2 slices)',\n",
    "            '2 slices',\n",
    "            '20',\n",
    "            '5',\n",
    "            '5',\n",
    "            '200']]\n",
    ")\n",
    "\n",
    "parser = PandasDataFrameOutputParser(dataframe=df)\n",
    "print(parser.get_format_instructions())"
   ],
   "id": "1543e3b18c99cd5d"
  },
  {
   "metadata": {},
   "cell_type": "code",
   "outputs": [],
   "execution_count": null,
   "source": [
    "nutri_prompt_template = (\"You are a search assistant. The human user will give you a description of their meals, portion size and the time they consumed it. Your task is to analyse the meals, log the date and time of each meal,\"\n",
    "    \"and then decompose the meal and its ingredients into their nutrient content. Use google search tool to get nutrient data from https://www.fatsecret.com/calories-nutrition/ if possible. MAke sensible guesses about portions where user does not provide\"\n",
    "    \"Output the amount of carbohydrates, fats, proteins in grams, and calories. \"\n",
    "    \"Please give a unique id to each meal, that is repeated across its components.\"\n",
    "    \"Answer with the nutritional breakdown of the meal in a json format (and nothing else) as \"\n",
    "    \"[\\{{\\'Column1': 'Value1', 'Column2': 'Value2', 'Column3': 'Value3'\\}},\"\n",
    "    \"\\{{\\'Column1': 'Value4', 'Column2': 'Value5', 'Column3': 'Value6'\\}}]\"\n",
    "    \"The following are the key/column names, and you must extract the value from the meal analysis\"\n",
    "     \"- meal_id\"\n",
    "    \"- date\"\n",
    "    \"- time\"\n",
    "    \"- meal_component\"\n",
    "    \"- quantity_per_serving\"\n",
    "    \"- carbohydrates\"\n",
    "    \"- protein\"\n",
    "    \"- fat\"\n",
    "    \"- calories\"\n",
    "    \"Only answer with the json key-value list, and nothing else.\")"
   ],
   "id": "191fdfd6b33f4d55"
  },
  {
   "metadata": {},
   "cell_type": "code",
   "outputs": [],
   "execution_count": null,
   "source": [
    "parser = JsonOutputParser()\n",
    "parser.get_format_instructions()"
   ],
   "id": "9205e275f17e2834"
  },
  {
   "metadata": {},
   "cell_type": "code",
   "outputs": [],
   "execution_count": null,
   "source": [
    "# Set up the prompt.\n",
    "prompt_template = PromptTemplate(\n",
    "    template = nutri_prompt_template + \"{format_instructions}\" + \"\\n{meal_description}\\n\",\n",
    "    input_variables=[\"meal_description\"],\n",
    "    partial_variables={\"format_instructions\": parser.get_format_instructions()},\n",
    ")"
   ],
   "id": "75e802d5c8eb7e24"
  },
  {
   "metadata": {},
   "cell_type": "code",
   "outputs": [],
   "execution_count": null,
   "source": [
    "meal_description = (\"today is 24th feb, I ate a cheeseburger with some slaw for lunch, and then a plain dosa for dinner, and yesterday I ate chowmein at 5pm\")\n",
    "\n",
    "# Generate the prompt\n",
    "filled_prompt = prompt_template.invoke({\"meal_description\": meal_description})\n",
    "filled_prompt"
   ],
   "id": "7e2a12e7e8fff09a"
  },
  {
   "metadata": {},
   "cell_type": "markdown",
   "source": "### access GenAI chat API",
   "id": "6123322b08c785d6"
  },
  {
   "metadata": {},
   "cell_type": "code",
   "outputs": [],
   "execution_count": null,
   "source": [
    "class MODEL_ID(LowercaseStrEnum):\n",
    "    GEMINI_1_5_FLASH_8B = \"gemini-1.5-flash-8b\"\n",
    "    GEMINI_2_0_FLASH = \"gemini-2.0-flash\"\n",
    "    GEMINI_1_5_FLASH = \"gemini-1.5-flash\"\n"
   ],
   "id": "5494e6c4148fa9c7"
  },
  {
   "metadata": {},
   "cell_type": "code",
   "outputs": [],
   "execution_count": null,
   "source": [
    "\n",
    "# Define custom GenerateContentConfig parameters\n",
    "client_options = {\n",
    "    \"temperature\": 0.0,  # Controls randomness\n",
    "    \"max_output_tokens\": 1000,  # Limit on output tokens\n",
    "    \"stop_sequences\": [\"\\n\"],   # Optional stop sequences\n",
    "}\n",
    "\n",
    "\n",
    "# Initialize ChatGoogleGenerativeAI with client options\n",
    "llm = ChatGoogleGenerativeAI(\n",
    "    model = MODEL_ID.GEMINI_1_5_FLASH,\n",
    "    google_api_key = GOOGLE_API_KEY,\n",
    "    max_output_tokens = 1000,\n",
    "    temperature=0,\n",
    "    top_p=0.95,\n",
    "    top_k=20,\n",
    "    config=GenerateContentConfig(\n",
    "        tools=[google_search_tool],\n",
    "        response_modalities=[\"TEXT\"],\n",
    "    ))\n",
    "   #client_options =  {'generate_content_config': {'max_output_tokens': 100}})\n",
    "\n",
    "# Invoke the model with a prompt\n",
    "response = llm.invoke(filled_prompt.text )\n",
    "print(response.content)\n"
   ],
   "id": "45c8460a07ea6d0"
  },
  {
   "metadata": {},
   "cell_type": "code",
   "outputs": [],
   "execution_count": null,
   "source": "response",
   "id": "eba7a4fe421348b7"
  },
  {
   "metadata": {},
   "cell_type": "code",
   "outputs": [],
   "execution_count": null,
   "source": "parsed_json = parser.parse(response.content)\n",
   "id": "521121142af4d2db"
  },
  {
   "metadata": {},
   "cell_type": "code",
   "outputs": [],
   "execution_count": null,
   "source": [
    "df = pd.DataFrame.from_records(parsed_json)\n",
    "df.groupby('date').cumcount() + 1\n",
    "df"
   ],
   "id": "2c21b737740cca9c"
  },
  {
   "metadata": {},
   "cell_type": "markdown",
   "source": "### try google gemini directly",
   "id": "d1a5231f9cd01318"
  },
  {
   "metadata": {},
   "cell_type": "code",
   "outputs": [],
   "execution_count": null,
   "source": [
    "client = genai.Client(api_key=GOOGLE_API_KEY)\n",
    "\n",
    "google_search_tool = Tool(\n",
    "    google_search = GoogleSearch()\n",
    ")\n",
    "\n",
    "response_direct = client.models.generate_content(\n",
    "    model=MODEL_ID.GEMINI_2_0_FLASH,\n",
    "    contents=filled_prompt, \n",
    "    config=types.GenerateContentConfig(\n",
    "        tools=[google_search_tool],\n",
    "         response_modalities=[\"TEXT\"],\n",
    "    )\n",
    ")\n"
   ],
   "id": "ff13bb51fd0fa1b2"
  },
  {
   "metadata": {},
   "cell_type": "code",
   "outputs": [],
   "execution_count": null,
   "source": "print(response_direct_text)",
   "id": "52463c433650bc99"
  },
  {
   "metadata": {},
   "cell_type": "markdown",
   "source": "## agent",
   "id": "7576e26e7c390fbd"
  },
  {
   "metadata": {},
   "cell_type": "code",
   "outputs": [],
   "execution_count": null,
   "source": [
    "from langchain.agents import initialize_agent, AgentType\n",
    "\n",
    "# Combine LLM and tools into an agent\n",
    "tools = [search_tool]\n",
    "agent = initialize_agent(\n",
    "    tools=tools,\n",
    "    llm=llm,\n",
    "    agent=AgentType.ZERO_SHOT_REACT_DESCRIPTION,\n",
    "    verbose=True,\n",
    ")\n",
    "\n",
    "# Example query that requires search\n",
    "query = \"What are the latest advancements in AI research? Please answer in not more than 5 lines\"\n",
    "\n",
    "response = agent.run(query)\n",
    "\n",
    "print(response)\n"
   ],
   "id": "2e9663589da7beeb"
  },
  {
   "metadata": {},
   "cell_type": "markdown",
   "source": "### postgres",
   "id": "758041fa79f22542"
  },
  {
   "metadata": {},
   "cell_type": "code",
   "outputs": [],
   "execution_count": null,
   "source": [
    "f'postgresql+psycopg2://{username}:{password}@{host}:{port}/{database}'\n",
    "df"
   ],
   "id": "c225ee7aa8d0ad3c"
  },
  {
   "metadata": {},
   "cell_type": "code",
   "outputs": [],
   "execution_count": null,
   "source": [
    "import pandas as pd\n",
    "from sqlalchemy import create_engine\n",
    "\n",
    "# PostgreSQL connection details\n",
    "username = 'postgres'\n",
    "password = 'postgres'\n",
    "host = 'localhost'\n",
    "port = '5432'\n",
    "database = 'postgres'\n",
    "\n",
    "# Create SQLAlchemy engine\n",
    "engine = create_engine(f'postgresql+psycopg2://{username}:{password}@{host}:{port}/{database}')\n",
    "\n",
    "# Create a DataFrame\n",
    "#data = {'name': ['Alice', 'Bob', 'Charlie'], 'age': [25, 30, 35]}\n",
    "#df = pd.DataFrame(data)\n",
    "\n",
    "# Store DataFrame into PostgreSQL\n",
    "df.to_sql('table_name', engine, index=False, if_exists='replace')\n"
   ],
   "id": "b691d3435ac51297"
  },
  {
   "metadata": {},
   "cell_type": "code",
   "outputs": [],
   "execution_count": null,
   "source": "r\t\t",
   "id": "f57f943d67c097a0"
  },
  {
   "metadata": {},
   "cell_type": "code",
   "outputs": [],
   "execution_count": null,
   "source": "df.to_sql('table_name', engine, index=False, if_exists='append')\n",
   "id": "e68e830f1e851cef"
  },
  {
   "metadata": {},
   "cell_type": "code",
   "outputs": [],
   "execution_count": null,
   "source": "df",
   "id": "5eecdfbb944b4e18"
  },
  {
   "metadata": {},
   "cell_type": "code",
   "outputs": [],
   "execution_count": null,
   "source": "df['protein'].astype(int)",
   "id": "e8a5919b2072bc7"
  },
  {
   "metadata": {},
   "cell_type": "code",
   "outputs": [],
   "execution_count": null,
   "source": "json_records = df.to_dict(\"records\")",
   "id": "f421f47a817b2ee4"
  },
  {
   "metadata": {},
   "cell_type": "code",
   "outputs": [],
   "execution_count": null,
   "source": [
    "from st_supabase_connection import SupabaseConnection\n",
    "from src.config import PostgresConfig, DEFAULT_POSTGRES_CONFIG_LOCAL_v1\n",
    "from src.data_utils import COLUMN_NAMES\n",
    "import streamlit as st\n",
    "from supabase import create_client, Client\n",
    "\n",
    "POSTGRES_TABLENAME = \"nutrition_data\"\n",
    "POSTGRES_HOST_LOCAL = \"local\"\n",
    "POSTGRES_HOST_SUPABASE = \"supabase\"\n",
    "ALLOWED_POSTGRES_HOSTS = [POSTGRES_HOST_SUPABASE, POSTGRES_HOST_LOCAL]\n",
    "\n",
    "\n",
    "## app level config\n",
    "STREAMLIT_APP_POSTGRESS_HOST = POSTGRES_HOST_SUPABASE\n",
    "STREAMLIT_APP_POSTGRES_CONFIG = DEFAULT_POSTGRES_CONFIG_LOCAL_v1\n",
    "\n",
    "# Initialize connection.\n",
    "# Uses st.cache_resource to only run once.\n",
    "#@st.cache_resource\n",
    "def init_connection():\n",
    "    url = st.secrets[\"SUPABASE_URL\"]\n",
    "    key = st.secrets[\"SUPABASE_KEY\"]\n",
    "    return create_client(url, key)\n",
    "\n",
    "supabase = init_connection()\n"
   ],
   "id": "edb8de42427e578e"
  },
  {
   "metadata": {},
   "cell_type": "code",
   "outputs": [],
   "execution_count": null,
   "source": [
    "# Perform the query\n",
    "response = supabase.table(\"nutrition_data\").select(\"*\").execute()\n",
    "\n",
    "# Check if the response contains data\n",
    "if response and response.data:\n",
    "    for row in response.data:\n",
    "        print(row)\n",
    "else:\n",
    "    print(\"No data retrieved or query failed.\")\n"
   ],
   "id": "5e361a1a667052f8"
  },
  {
   "metadata": {},
   "cell_type": "code",
   "outputs": [],
   "execution_count": null,
   "source": [
    "# Perform the query\n",
    "table_name = \"nutrition_data\"\n",
    "response = supabase.table(table_name).select(\"*\").execute()\n",
    "\n",
    "# Check if the response contains data\n",
    "if response and response.data:\n",
    "    for row in response.data:\n",
    "        print(row)\n",
    "else:\n",
    "    print(\"No data retrieved or query failed.\")\n"
   ],
   "id": "eea0cbfca5e1d759"
  },
  {
   "metadata": {},
   "cell_type": "code",
   "outputs": [],
   "execution_count": null,
   "source": "response",
   "id": "d7af5c919d5327a0"
  },
  {
   "metadata": {},
   "cell_type": "code",
   "outputs": [],
   "execution_count": null,
   "source": [
    "table_name = \"nutrition_data\"\n",
    "from typing import List, Dict\n",
    "def insert_data_in_supabase(json_records: List[Dict],\n",
    "                            table_name = table_name,\n",
    "                            conn = supabase_conn):\n",
    "    try:\n",
    "        response = (\n",
    "            conn.table(table_name)\n",
    "            .insert(json_records)\n",
    "            .execute()\n",
    "        )\n",
    "        return response\n",
    "    except Exception as exception:\n",
    "        return exception\n"
   ],
   "id": "3506c6878b2b7f85"
  },
  {
   "metadata": {},
   "cell_type": "code",
   "outputs": [],
   "execution_count": null,
   "source": [
    "insert_data_in_supabase(json_records=json_records,\n",
    "                                    table_name=table_name,\n",
    "                                    conn=supabase_conn)"
   ],
   "id": "6232f40d66d7c19"
  },
  {
   "metadata": {},
   "cell_type": "code",
   "outputs": [],
   "execution_count": null,
   "source": [
    "import secrets\n",
    "print(secrets.token_urlsafe(32))\n"
   ],
   "id": "e26d07eaaad5199e"
  },
  {
   "metadata": {},
   "cell_type": "code",
   "outputs": [],
   "execution_count": null,
   "source": "",
   "id": "ca219bd3489a5c0d"
  }
 ],
 "metadata": {
  "kernelspec": {
   "display_name": "Python 3.11 (api-talkie)",
   "language": "python",
   "name": "python3"
  },
  "language_info": {
   "codemirror_mode": {
    "name": "ipython",
    "version": 3
   },
   "file_extension": ".py",
   "mimetype": "text/x-python",
   "name": "python",
   "nbconvert_exporter": "python",
   "pygments_lexer": "ipython3",
   "version": "3.11.11"
  }
 },
 "nbformat": 4,
 "nbformat_minor": 5
}
